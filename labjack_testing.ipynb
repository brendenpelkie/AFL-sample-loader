{
 "cells": [
  {
   "cell_type": "code",
   "execution_count": 1,
   "id": "e5888ccd-f41d-45c3-9753-6ec4a57fb8dc",
   "metadata": {},
   "outputs": [],
   "source": [
    "import sys\n",
    "\n",
    "from labjack import ljm"
   ]
  },
  {
   "cell_type": "code",
   "execution_count": 3,
   "id": "8b1b6b55-b9c5-43b2-b6b1-48d3b8b3acda",
   "metadata": {},
   "outputs": [
    {
     "ename": "LJMError",
     "evalue": "LJM library error code 1230 LJME_DEVICE_CURRENTLY_CLAIMED_BY_ANOTHER_PROCESS",
     "output_type": "error",
     "traceback": [
      "\u001b[0;31m---------------------------------------------------------------------------\u001b[0m",
      "\u001b[0;31mLJMError\u001b[0m                                  Traceback (most recent call last)",
      "Cell \u001b[0;32mIn[3], line 1\u001b[0m\n\u001b[0;32m----> 1\u001b[0m handle \u001b[38;5;241m=\u001b[39m ljm\u001b[38;5;241m.\u001b[39mopenS(\u001b[38;5;124m\"\u001b[39m\u001b[38;5;124mANY\u001b[39m\u001b[38;5;124m\"\u001b[39m,\u001b[38;5;124m\"\u001b[39m\u001b[38;5;124mANY\u001b[39m\u001b[38;5;124m\"\u001b[39m,\u001b[38;5;124m\"\u001b[39m\u001b[38;5;124mANY\u001b[39m\u001b[38;5;124m\"\u001b[39m)\n",
      "File \u001b[0;32m~/miniconda3/envs/afl/lib/python3.11/site-packages/labjack/ljm/ljm.py:342\u001b[0m, in \u001b[0;36mopenS\u001b[0;34m(deviceType, connectionType, identifier)\u001b[0m\n\u001b[1;32m    340\u001b[0m error \u001b[38;5;241m=\u001b[39m _staticLib\u001b[38;5;241m.\u001b[39mLJM_OpenS(deviceType\u001b[38;5;241m.\u001b[39mencode(\u001b[38;5;124m\"\u001b[39m\u001b[38;5;124mascii\u001b[39m\u001b[38;5;124m\"\u001b[39m), connectionType\u001b[38;5;241m.\u001b[39mencode(\u001b[38;5;124m\"\u001b[39m\u001b[38;5;124mascii\u001b[39m\u001b[38;5;124m\"\u001b[39m), identifier\u001b[38;5;241m.\u001b[39mencode(\u001b[38;5;124m\"\u001b[39m\u001b[38;5;124mascii\u001b[39m\u001b[38;5;124m\"\u001b[39m), ctypes\u001b[38;5;241m.\u001b[39mbyref(cHandle))\n\u001b[1;32m    341\u001b[0m \u001b[38;5;28;01mif\u001b[39;00m error \u001b[38;5;241m!=\u001b[39m errorcodes\u001b[38;5;241m.\u001b[39mNOERROR:\n\u001b[0;32m--> 342\u001b[0m     \u001b[38;5;28;01mraise\u001b[39;00m LJMError(error)\n\u001b[1;32m    344\u001b[0m \u001b[38;5;28;01mreturn\u001b[39;00m cHandle\u001b[38;5;241m.\u001b[39mvalue\n",
      "\u001b[0;31mLJMError\u001b[0m: LJM library error code 1230 LJME_DEVICE_CURRENTLY_CLAIMED_BY_ANOTHER_PROCESS"
     ]
    }
   ],
   "source": [
    "handle = ljm.openS(\"ANY\",\"ANY\",\"ANY\")"
   ]
  },
  {
   "cell_type": "code",
   "execution_count": null,
   "id": "b96fd1f6-80bd-4674-b383-062c49466341",
   "metadata": {},
   "outputs": [],
   "source": []
  }
 ],
 "metadata": {
  "kernelspec": {
   "display_name": "Python 3 (ipykernel)",
   "language": "python",
   "name": "python3"
  },
  "language_info": {
   "codemirror_mode": {
    "name": "ipython",
    "version": 3
   },
   "file_extension": ".py",
   "mimetype": "text/x-python",
   "name": "python",
   "nbconvert_exporter": "python",
   "pygments_lexer": "ipython3",
   "version": "3.11.8"
  }
 },
 "nbformat": 4,
 "nbformat_minor": 5
}
