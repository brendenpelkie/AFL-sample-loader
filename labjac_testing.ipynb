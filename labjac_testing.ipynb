{
 "cells": [
  {
   "cell_type": "code",
   "execution_count": 1,
   "id": "697bdcb4-ea7f-4080-9194-e4f7c416bd7b",
   "metadata": {},
   "outputs": [],
   "source": [
    "import sys\n",
    "sys.path.append('/usr/local/lib')"
   ]
  },
  {
   "cell_type": "code",
   "execution_count": 3,
   "id": "5da3d2d3-97dd-4f75-82b6-ec6f00362f9c",
   "metadata": {},
   "outputs": [
    {
     "data": {
      "text/plain": [
       "['/usr/lib/python311.zip',\n",
       " '/usr/lib/python3.11',\n",
       " '/usr/lib/python3.11/lib-dynload',\n",
       " '',\n",
       " '/home/piuser/afl/lib/python3.11/site-packages',\n",
       " '/usr/local/lib/python3.11/dist-packages',\n",
       " '/usr/lib/python3/dist-packages',\n",
       " '/usr/lib/python3.11/dist-packages',\n",
       " '/usr/local/lib']"
      ]
     },
     "execution_count": 3,
     "metadata": {},
     "output_type": "execute_result"
    }
   ],
   "source": [
    "sys.path"
   ]
  },
  {
   "cell_type": "code",
   "execution_count": 1,
   "id": "9c67678b-2c15-49ae-a466-2eecd13964de",
   "metadata": {},
   "outputs": [
    {
     "name": "stdout",
     "output_type": "stream",
     "text": [
      "<class 'labjack.ljm.ljm.LJMError'>: Cannot load the LJM library libLabJackM.so. libLabJackM.so: cannot open shared object file: No such file or directory\n"
     ]
    }
   ],
   "source": [
    "from labjack import ljm "
   ]
  },
  {
   "cell_type": "code",
   "execution_count": 5,
   "id": "32b9d558-e0d6-48ab-bb08-c2fe3a982c29",
   "metadata": {},
   "outputs": [
    {
     "ename": "AttributeError",
     "evalue": "'NoneType' object has no attribute 'LJM_OpenS'",
     "output_type": "error",
     "traceback": [
      "\u001b[0;31m---------------------------------------------------------------------------\u001b[0m",
      "\u001b[0;31mAttributeError\u001b[0m                            Traceback (most recent call last)",
      "Cell \u001b[0;32mIn[5], line 1\u001b[0m\n\u001b[0;32m----> 1\u001b[0m handle \u001b[38;5;241m=\u001b[39m \u001b[43mljm\u001b[49m\u001b[38;5;241;43m.\u001b[39;49m\u001b[43mopenS\u001b[49m\u001b[43m(\u001b[49m\u001b[38;5;124;43m'\u001b[39;49m\u001b[38;5;124;43mANY\u001b[39;49m\u001b[38;5;124;43m'\u001b[39;49m\u001b[43m,\u001b[49m\u001b[43m \u001b[49m\u001b[38;5;124;43m'\u001b[39;49m\u001b[38;5;124;43mANY\u001b[39;49m\u001b[38;5;124;43m'\u001b[39;49m\u001b[43m,\u001b[49m\u001b[43m \u001b[49m\u001b[38;5;124;43m'\u001b[39;49m\u001b[38;5;124;43mANY\u001b[39;49m\u001b[38;5;124;43m'\u001b[39;49m\u001b[43m)\u001b[49m\n",
      "File \u001b[0;32m~/afl/lib/python3.11/site-packages/labjack/ljm/ljm.py:340\u001b[0m, in \u001b[0;36mopenS\u001b[0;34m(deviceType, connectionType, identifier)\u001b[0m\n\u001b[1;32m    337\u001b[0m identifier \u001b[38;5;241m=\u001b[39m \u001b[38;5;28mstr\u001b[39m(identifier)\n\u001b[1;32m    338\u001b[0m cHandle \u001b[38;5;241m=\u001b[39m ctypes\u001b[38;5;241m.\u001b[39mc_int32(\u001b[38;5;241m0\u001b[39m)\n\u001b[0;32m--> 340\u001b[0m error \u001b[38;5;241m=\u001b[39m \u001b[43m_staticLib\u001b[49m\u001b[38;5;241;43m.\u001b[39;49m\u001b[43mLJM_OpenS\u001b[49m(deviceType\u001b[38;5;241m.\u001b[39mencode(\u001b[38;5;124m\"\u001b[39m\u001b[38;5;124mascii\u001b[39m\u001b[38;5;124m\"\u001b[39m), connectionType\u001b[38;5;241m.\u001b[39mencode(\u001b[38;5;124m\"\u001b[39m\u001b[38;5;124mascii\u001b[39m\u001b[38;5;124m\"\u001b[39m), identifier\u001b[38;5;241m.\u001b[39mencode(\u001b[38;5;124m\"\u001b[39m\u001b[38;5;124mascii\u001b[39m\u001b[38;5;124m\"\u001b[39m), ctypes\u001b[38;5;241m.\u001b[39mbyref(cHandle))\n\u001b[1;32m    341\u001b[0m \u001b[38;5;28;01mif\u001b[39;00m error \u001b[38;5;241m!=\u001b[39m errorcodes\u001b[38;5;241m.\u001b[39mNOERROR:\n\u001b[1;32m    342\u001b[0m     \u001b[38;5;28;01mraise\u001b[39;00m LJMError(error)\n",
      "\u001b[0;31mAttributeError\u001b[0m: 'NoneType' object has no attribute 'LJM_OpenS'"
     ]
    }
   ],
   "source": [
    "handle = ljm.openS('ANY', 'ANY', 'ANY')"
   ]
  },
  {
   "cell_type": "code",
   "execution_count": null,
   "id": "0bbe8820-10fb-4879-80fb-7661031b3473",
   "metadata": {},
   "outputs": [],
   "source": []
  }
 ],
 "metadata": {
  "kernelspec": {
   "display_name": "Python 3 (ipykernel)",
   "language": "python",
   "name": "python3"
  },
  "language_info": {
   "codemirror_mode": {
    "name": "ipython",
    "version": 3
   },
   "file_extension": ".py",
   "mimetype": "text/x-python",
   "name": "python",
   "nbconvert_exporter": "python",
   "pygments_lexer": "ipython3",
   "version": "3.11.2"
  }
 },
 "nbformat": 4,
 "nbformat_minor": 5
}
