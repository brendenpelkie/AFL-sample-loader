{
 "cells": [
  {
   "cell_type": "code",
   "execution_count": 1,
   "id": "8569141c-4a1e-4e6e-8e2e-499bd3b32cb4",
   "metadata": {},
   "outputs": [],
   "source": [
    "import piplates.RELAYplate as relay"
   ]
  },
  {
   "cell_type": "markdown",
   "id": "0b90d1d2-cf5d-481d-b0e1-9e98d838f5ad",
   "metadata": {},
   "source": [
    "## Testing solenoid valves\n",
    "\n",
    "Use this notebook to make sure that you have wired your solenoid valves and configured your pi correctly."
   ]
  },
  {
   "cell_type": "code",
   "execution_count": 21,
   "id": "73fbb199-5e74-4f54-a90b-a902ce99583b",
   "metadata": {
    "scrolled": true
   },
   "outputs": [
    {
     "data": {
      "text/plain": [
       "'Pi-Plate RELAY'"
      ]
     },
     "execution_count": 21,
     "metadata": {},
     "output_type": "execute_result"
    }
   ],
   "source": [
    "relay.getID(0)"
   ]
  },
  {
   "cell_type": "code",
   "execution_count": 2,
   "id": "5a8625a4-a9b3-429c-bd54-a641134b8330",
   "metadata": {},
   "outputs": [],
   "source": [
    "def arm_up(relay_plate):\n",
    "    relay_plate.relayON(0,6)\n",
    "    relay_plate.relayOFF(0,7)"
   ]
  },
  {
   "cell_type": "code",
   "execution_count": 3,
   "id": "058824b8-e588-4b08-aa44-9880d73f6783",
   "metadata": {},
   "outputs": [],
   "source": [
    "def arm_down(relay_plate):\n",
    "    relay_plate.relayOFF(0,6)\n",
    "    relay_plate.relayON(0, 7)"
   ]
  },
  {
   "cell_type": "code",
   "execution_count": 5,
   "id": "08821b62-6796-4040-89f6-5458db12fa7d",
   "metadata": {},
   "outputs": [],
   "source": [
    "def arm_lock(relay_plate):\n",
    "    relay_plate.relayOFF(0,7)\n",
    "    relay_plate.relayOFF(0,6)"
   ]
  },
  {
   "cell_type": "markdown",
   "id": "d6b5ed05-5921-45c4-be97-17532428de4a",
   "metadata": {},
   "source": [
    "If you connect your catch clamp arm to your air supply, it should move up and down when you run the up and down functions. \n",
    "\n",
    "# CAUTION: The arm moves fast. Keep all appendages clear while testing. "
   ]
  },
  {
   "cell_type": "code",
   "execution_count": 8,
   "id": "497c62e9-f747-4449-abfd-be713ee9738a",
   "metadata": {},
   "outputs": [],
   "source": [
    "arm_up(relay)"
   ]
  },
  {
   "cell_type": "code",
   "execution_count": null,
   "id": "64c7c26c-fd08-406d-b36e-dfff9934737c",
   "metadata": {},
   "outputs": [],
   "source": []
  },
  {
   "cell_type": "code",
   "execution_count": 9,
   "id": "12ee9e59-4278-4de3-82b1-2c506b836528",
   "metadata": {},
   "outputs": [],
   "source": [
    "arm_down(relay)"
   ]
  },
  {
   "cell_type": "code",
   "execution_count": 22,
   "id": "1e5bc866-c716-491b-9e11-379d9dc816f1",
   "metadata": {},
   "outputs": [],
   "source": [
    "arm_lock(relay)"
   ]
  },
  {
   "cell_type": "markdown",
   "id": "4ee1ca8b-c8f1-4613-b536-0f1f0532b81d",
   "metadata": {},
   "source": [
    "## Step through each of the other solenoids. "
   ]
  },
  {
   "cell_type": "code",
   "execution_count": null,
   "id": "38f1db99-30bb-4a63-8210-48c6ac638917",
   "metadata": {},
   "outputs": [],
   "source": [
    "relay.relayON(0,1)"
   ]
  },
  {
   "cell_type": "code",
   "execution_count": null,
   "id": "384f6f78-a58a-4480-b4f8-8ffe879d433b",
   "metadata": {},
   "outputs": [],
   "source": [
    "relay.relayOFF(0, 1)"
   ]
  },
  {
   "cell_type": "markdown",
   "id": "b6d28b03-94b0-459a-be5d-62ade6b8dd2c",
   "metadata": {},
   "source": [
    "Repeat for relays 1-5"
   ]
  }
 ],
 "metadata": {
  "kernelspec": {
   "display_name": "Python 3 (ipykernel)",
   "language": "python",
   "name": "python3"
  },
  "language_info": {
   "codemirror_mode": {
    "name": "ipython",
    "version": 3
   },
   "file_extension": ".py",
   "mimetype": "text/x-python",
   "name": "python",
   "nbconvert_exporter": "python",
   "pygments_lexer": "ipython3",
   "version": "3.12.7"
  }
 },
 "nbformat": 4,
 "nbformat_minor": 5
}
