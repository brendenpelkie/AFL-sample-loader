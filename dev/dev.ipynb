{
 "cells": [
  {
   "cell_type": "code",
   "execution_count": 1,
   "metadata": {},
   "outputs": [],
   "source": [
    "%load_ext autoreload\n",
    "%autoreload 2"
   ]
  },
  {
   "cell_type": "code",
   "execution_count": 2,
   "metadata": {},
   "outputs": [],
   "source": [
    "import numpy as np \n",
    "import NistoRoboto\n",
    "from NistoRoboto.Component import Component"
   ]
  },
  {
   "cell_type": "code",
   "execution_count": 3,
   "metadata": {},
   "outputs": [],
   "source": [
    "H2O = NistoRoboto.Component('H2O',volume=1.0,density=1.0)\n",
    "D2O = NistoRoboto.Component('D2O',volume=1.0,density=1.11)\n",
    "polymer = NistoRoboto.Component('polymer',mass=1.0)"
   ]
  },
  {
   "cell_type": "code",
   "execution_count": 4,
   "metadata": {},
   "outputs": [],
   "source": [
    "stock_polymer = NistoRoboto.Mixture([H2O,polymer])\n",
    "stock_polymer.set_mass_fractions({'polymer':0.1,'H2O':0.9})\n",
    "stock_polymer.volume = 10"
   ]
  },
  {
   "cell_type": "code",
   "execution_count": 5,
   "metadata": {},
   "outputs": [],
   "source": [
    "stock_H2O = NistoRoboto.Mixture([H2O])\n",
    "stock_D2O = NistoRoboto.Mixture([D2O])\n",
    "stock_H2O.volume = 10\n",
    "stock_D2O.volume = 10"
   ]
  },
  {
   "cell_type": "code",
   "execution_count": 6,
   "metadata": {},
   "outputs": [],
   "source": [
    "target_solution = NistoRoboto.Mixture([H2O,D2O,polymer])\n",
    "target_solution.set_volume_fractions({'H2O':0.25,'D2O':0.75})\n",
    "target_solution.volume = 1.0\n",
    "target_solution.set_concentration('polymer',1.0)"
   ]
  },
  {
   "cell_type": "code",
   "execution_count": 7,
   "metadata": {},
   "outputs": [],
   "source": [
    "class Deck:\n",
    "    def __init__(self):\n",
    "        self.stocks = []\n",
    "        self.targets = {}\n",
    "        self.containers = {}\n",
    "        self.component_map= {}\n",
    "    def add_stock(self,stock):\n",
    "        self.stocks.append(stock)\n",
    "        for name,component in stock.components:\n",
    "            self.stocks[stock]"
   ]
  },
  {
   "cell_type": "code",
   "execution_count": 9,
   "metadata": {},
   "outputs": [
    {
     "name": "stdout",
     "output_type": "stream",
     "text": [
      "H2O <Component M=10.00 V=10.00 D=1.00>\n",
      "polymer <Component M=0.20 V=-1.00 D=-1.00>\n"
     ]
    }
   ],
   "source": [
    "for name,component in stock_polymer:\n",
    "    print(name,component)"
   ]
  },
  {
   "cell_type": "code",
   "execution_count": 27,
   "metadata": {},
   "outputs": [
    {
     "data": {
      "text/plain": [
       "('polymer', <Component M=1.00 V=1.00 D=-1.00>)"
      ]
     },
     "execution_count": 27,
     "metadata": {},
     "output_type": "execute_result"
    }
   ],
   "source": [
    "component"
   ]
  },
  {
   "cell_type": "code",
   "execution_count": null,
   "metadata": {},
   "outputs": [],
   "source": []
  }
 ],
 "metadata": {
  "kernelspec": {
   "display_name": "Python 3",
   "language": "python",
   "name": "python3"
  },
  "language_info": {
   "codemirror_mode": {
    "name": "ipython",
    "version": 3
   },
   "file_extension": ".py",
   "mimetype": "text/x-python",
   "name": "python",
   "nbconvert_exporter": "python",
   "pygments_lexer": "ipython3",
   "version": "3.7.3"
  }
 },
 "nbformat": 4,
 "nbformat_minor": 4
}
