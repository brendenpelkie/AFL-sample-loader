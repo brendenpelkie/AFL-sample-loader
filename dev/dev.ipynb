{
 "cells": [
  {
   "cell_type": "code",
   "execution_count": 2,
   "metadata": {},
   "outputs": [],
   "source": [
    "import numpy as np\n",
    "from pint import UnitRegistry\n",
    "import periodictable"
   ]
  },
  {
   "cell_type": "code",
   "execution_count": null,
   "metadata": {},
   "outputs": [],
   "source": []
  },
  {
   "cell_type": "markdown",
   "metadata": {},
   "source": [
    "## Design Goals\n",
    "\n",
    "- Simple, algebraic build-up of samples from base components \n",
    "    - H2O + 0.5*D2O = mixture\n",
    "- Ability to specify concentrations "
   ]
  },
  {
   "cell_type": "markdown",
   "metadata": {},
   "source": [
    "## Round 1:"
   ]
  },
  {
   "cell_type": "code",
   "execution_count": 196,
   "metadata": {},
   "outputs": [],
   "source": [
    "import numpy as np\n",
    "import copy\n",
    "import numbers\n",
    "\n",
    "class BaseMaterial(object):\n",
    "    '''Base class for all materials\n",
    "    \n",
    "    This class defines all of the basic properties and methods to be shared across material objects\n",
    "    \n",
    "    '''\n",
    "    def __init__(self,name,mass=None,volume=None,density=None):\n",
    "        self.name    = name\n",
    "        self.mass    = mass\n",
    "        self.volume  = volume\n",
    "        self.density = density\n",
    "    \n",
    "    def _has_density(self):\n",
    "        return (self.density is not None)\n",
    "    \n",
    "    def _has_volume(self):\n",
    "        return (self.volume is not None)\n",
    "    \n",
    "    def _has_mass(self):\n",
    "        return (self.mass is not None)\n",
    "    \n",
    "    def __mul__(self,factor):\n",
    "        if not isinstance(factor,numbers.Number):\n",
    "            raise TypeError(f'Can only multiply Component by numerical scale factor, not {type(other)}')\n",
    "        component = copy.deepcopy(self)\n",
    "        component.volume *= factor\n",
    "        component.mass *= factor\n",
    "        return component\n",
    "    \n",
    "    def __rmul__(self,factor):\n",
    "        return self.__mul__(factor)\n",
    "            \n",
    "    def _combine_volume(self,other):\n",
    "        if self._has_volume() and other._has_volume():\n",
    "            self.volume = self.volume + other.volume\n",
    "        else:\n",
    "            self.volume = None\n",
    "        \n",
    "    def _combine_mass(self,other):\n",
    "        if self._has_mass() and other._has_mass():\n",
    "            self.mass = self.mass + other.mass\n",
    "        else:\n",
    "            self.mass = None\n",
    "        \n",
    "    def _combine_density(self,other):\n",
    "        if self._has_mass() and other._has_mass() and self._has_density() and other._has_density():\n",
    "            self.density = (self.mass + other.mass)/(self.mass/self.density + other.mass/other.density)\n",
    "        else:\n",
    "            self.density = None\n",
    "            \n",
    "    def _combine_all_properties(self,other):\n",
    "        self._combine_volume(other)\n",
    "        self._combine_mass(other)\n",
    "        self._combine_density(other)\n",
    "        "
   ]
  },
  {
   "cell_type": "code",
   "execution_count": 207,
   "metadata": {},
   "outputs": [],
   "source": [
    "import numpy as np\n",
    "import copy\n",
    "import numbers\n",
    "\n",
    "class Component(BaseMaterial):\n",
    "    def __str__(self):\n",
    "        return f'<Component M={self.mass:3.2f}  V={self.mass:3.2f}  P={self.density:3.2f} >'\n",
    "    \n",
    "    def __repr__(self):\n",
    "        return self.__str__()\n",
    "    \n",
    "    def __add__(self,other):\n",
    "        if isinstance(other,Component):\n",
    "            if self.name == other.name:\n",
    "                component = copy.deepcopy(self)\n",
    "                component._combine_all_properties(other)\n",
    "                return component\n",
    "                \n",
    "            else:\n",
    "                mixture = ComponentMixture(\n",
    "                                 name = self.name + '-' + other.name,\n",
    "                                 mass=self.mass,\n",
    "                                 volume=self.volume,\n",
    "                                 density=self.density,\n",
    "                                 )\n",
    "                mixture.components[self.name] = self\n",
    "                mixture.components[other.name] = other\n",
    "                mixture._combine_all_properties(other)\n",
    "                return mixture\n",
    "            \n",
    "        if isinstance(other,ComponentMixture):\n",
    "            return other.__add__(self)\n",
    "        else:\n",
    "            raise TypeError(f'Unsure how to combine Component {self.name} with {type(other)}')"
   ]
  },
  {
   "cell_type": "code",
   "execution_count": 208,
   "metadata": {},
   "outputs": [],
   "source": [
    "import numpy as np\n",
    "import copy\n",
    "import numbers\n",
    "        \n",
    "class ComponentMixture(BaseMaterial):\n",
    "    def __init__(self,name,mass=None,volume=None,density=None):\n",
    "        super().__init__(name,mass,volume,density)\n",
    "        self.components = {}\n",
    "        \n",
    "    def __mul__(self,factor):\n",
    "        if not isinstance(factor,numbers.Number):\n",
    "            raise TypeError(f'Can only multiply Component by numerical scale factor, not {type(other)}')\n",
    "            \n",
    "        mixture = copy.deepcopy(self)\n",
    "        mixture.volume *= factor\n",
    "        mixture.mass *= factor\n",
    "        for name,component in mixture.components.items():\n",
    "            component.by_volume()._scale_function(other)\n",
    "        \n",
    "        if mixture._scale_function == mixture._scale_volume:\n",
    "        elif mixture._scale_function == mixture._scale_mass:\n",
    "            for name,component in mixture.components.items():\n",
    "                component.by_mass()._scale_function(other)\n",
    "        else:\n",
    "            raise ValueError('Scale function not recognized!')\n",
    "            \n",
    "        return mixture\n",
    "    \n",
    "    def __rmul__(self,other):\n",
    "        return self.__mul__(other)\n",
    "    \n",
    "    def __getitem__(self,key):\n",
    "        return self.components[key]\n",
    "        \n",
    "    def contains(self,component):\n",
    "        if component not in self.components:\n",
    "            return False\n",
    "        else:\n",
    "            return True\n",
    "        \n",
    "    def mass_fraction(self,component):\n",
    "        if not self.contains(component):\n",
    "            raise ValueError(f'The Component {component} isn\\'t in the Mixture {self.name}')\n",
    "        return self.components[component].mass/self.mass\n",
    "    \n",
    "    def volume_fraction(self,component):\n",
    "        if not self.contains(component):\n",
    "            raise ValueError(f'The Component {component} isn\\'t in the Mixture {self.name}')\n",
    "        return self.components[component].volume/self.volume\n",
    "        \n",
    "    def __add__(self,other):\n",
    "        if isinstance(other,Component):\n",
    "            mixture = copy.deepcopy(self)\n",
    "            \n",
    "            if self.contains(other.name):\n",
    "                mixture.components[other.name] = mixture.components[other.name] + other\n",
    "            else:\n",
    "                mixture.components[other.name] = other\n",
    "                \n",
    "            mixture.name += ('-' + other.name)\n",
    "            mixture._combine_all_properties(other)\n",
    "            return mixture\n",
    "            \n",
    "                \n",
    "        elif isinstance(other,Mixture):\n",
    "            mixture = copy.deepcopy(self)\n",
    "            mixture.name = mixture.name + '-' + other.name\n",
    "            \n",
    "            for name,component in other.components.items():\n",
    "                if other.contains(other.name):\n",
    "                    mixture.components[other.name] = mixture.components[other.name] + other\n",
    "                else:\n",
    "                    mixture.components[other.name] = other\n",
    "            \n",
    "            mixture._combine_all_properties(other)\n",
    "            return mixture\n",
    "        else:\n",
    "            raise TypeError(f'Unsure how to combine Mixture with {type(other)}')\n",
    "        "
   ]
  },
  {
   "cell_type": "code",
   "execution_count": 209,
   "metadata": {},
   "outputs": [],
   "source": [
    "class Sample(ComponentMixture):\n",
    "    '''Simple alias of Mixture'''\n",
    "    pass\n",
    "\n",
    "class Stock(ComponentMixture):\n",
    "    '''Simple alias of Mixture'''\n",
    "    pass"
   ]
  },
  {
   "cell_type": "code",
   "execution_count": 210,
   "metadata": {},
   "outputs": [
    {
     "name": "stdout",
     "output_type": "stream",
     "text": [
      "vol1: 5\n",
      "vol2: 1.0\n",
      "mass1: 5\n",
      "mass2: 1.0\n"
     ]
    }
   ],
   "source": [
    "H2O = Component('H2O',mass=5,volume=5,density=1.0)\n",
    "D2O = Component('D2O',mass=5.55,volume=5,density=1.11)\n",
    "\n",
    "mix = D2O + 0.2*H2O\n"
   ]
  },
  {
   "cell_type": "code",
   "execution_count": 211,
   "metadata": {},
   "outputs": [
    {
     "data": {
      "text/plain": [
       "0.15267175572519084"
      ]
     },
     "execution_count": 211,
     "metadata": {},
     "output_type": "execute_result"
    }
   ],
   "source": [
    "mix.mass_fraction('H2O')"
   ]
  },
  {
   "cell_type": "code",
   "execution_count": 212,
   "metadata": {},
   "outputs": [
    {
     "data": {
      "text/plain": [
       "{'D2O': <Component M=5.55  V=5.55  P=1.11 >,\n",
       " 'H2O': <Component M=1.00  V=1.00  P=1.00 >}"
      ]
     },
     "execution_count": 212,
     "metadata": {},
     "output_type": "execute_result"
    }
   ],
   "source": [
    "mix.components"
   ]
  },
  {
   "cell_type": "code",
   "execution_count": 213,
   "metadata": {},
   "outputs": [
    {
     "name": "stdout",
     "output_type": "stream",
     "text": [
      "vol1: 5\n",
      "vol2: 0.5\n",
      "mass1: 5\n",
      "mass2: 0.5\n"
     ]
    }
   ],
   "source": [
    "mix2 = mix + 0.1*H2O"
   ]
  },
  {
   "cell_type": "code",
   "execution_count": 214,
   "metadata": {},
   "outputs": [
    {
     "data": {
      "text/plain": [
       "0.2127659574468085"
      ]
     },
     "execution_count": 214,
     "metadata": {},
     "output_type": "execute_result"
    }
   ],
   "source": [
    "mix2.mass_fraction('H2O')"
   ]
  },
  {
   "cell_type": "code",
   "execution_count": 215,
   "metadata": {},
   "outputs": [
    {
     "data": {
      "text/plain": [
       "{'D2O': <Component M=5.55  V=5.55  P=1.11 >,\n",
       " 'H2O': <Component M=1.00  V=1.00  P=1.00 >}"
      ]
     },
     "execution_count": 215,
     "metadata": {},
     "output_type": "execute_result"
    }
   ],
   "source": [
    "mix.components"
   ]
  },
  {
   "cell_type": "code",
   "execution_count": 216,
   "metadata": {},
   "outputs": [
    {
     "name": "stdout",
     "output_type": "stream",
     "text": [
      "5.55\n",
      "5\n",
      "1.11\n"
     ]
    }
   ],
   "source": [
    "print(mix2['D2O'].mass)\n",
    "print(mix2['D2O'].volume)\n",
    "print(mix2['D2O'].density)"
   ]
  },
  {
   "cell_type": "code",
   "execution_count": 217,
   "metadata": {},
   "outputs": [
    {
     "name": "stdout",
     "output_type": "stream",
     "text": [
      "vol1: 6.5\n",
      "vol2: 0.65\n",
      "mass1: 7.05\n",
      "mass2: 0.7067366704901341\n",
      "vol1: 5\n",
      "vol2: 0.5\n",
      "mass1: 5.55\n",
      "mass2: 0.555\n",
      "vol1: 1.5\n",
      "vol2: 0.15000000000000002\n",
      "mass1: 1.5\n",
      "mass2: 0.15000000000000002\n"
     ]
    },
    {
     "data": {
      "text/plain": [
       "<Component M=0.56  V=0.56  P=1.11 >"
      ]
     },
     "execution_count": 217,
     "metadata": {},
     "output_type": "execute_result"
    }
   ],
   "source": [
    "(0.1*(mix2).by_volume()).components['D2O']"
   ]
  },
  {
   "cell_type": "code",
   "execution_count": 218,
   "metadata": {},
   "outputs": [
    {
     "name": "stdout",
     "output_type": "stream",
     "text": [
      "vol1: 6.5\n",
      "vol2: 0.65\n",
      "mass1: 7.05\n",
      "mass2: 0.7067366704901341\n",
      "vol1: 5\n",
      "vol2: 0.5\n",
      "mass1: 5.55\n",
      "mass2: 0.555\n",
      "vol1: 1.5\n",
      "vol2: 0.15000000000000002\n",
      "mass1: 1.5\n",
      "mass2: 0.15000000000000002\n",
      "0.555\n",
      "0.5\n",
      "1.11\n"
     ]
    }
   ],
   "source": [
    "mix3 = 0.1*mix2\n",
    "print(mix3['D2O'].mass)\n",
    "print(mix3['D2O'].volume)\n",
    "print(mix3['D2O'].density)"
   ]
  },
  {
   "cell_type": "code",
   "execution_count": 219,
   "metadata": {},
   "outputs": [
    {
     "name": "stdout",
     "output_type": "stream",
     "text": [
      "vol1: 5\n",
      "vol2: 0.5\n",
      "mass1: 5.55\n",
      "mass2: 0.555\n"
     ]
    },
    {
     "data": {
      "text/plain": [
       "<Component M=0.56  V=0.56  P=1.11 >"
      ]
     },
     "execution_count": 219,
     "metadata": {},
     "output_type": "execute_result"
    }
   ],
   "source": [
    "D2O*0.1"
   ]
  },
  {
   "cell_type": "code",
   "execution_count": null,
   "metadata": {},
   "outputs": [],
   "source": []
  },
  {
   "cell_type": "code",
   "execution_count": null,
   "metadata": {},
   "outputs": [],
   "source": []
  },
  {
   "cell_type": "code",
   "execution_count": null,
   "metadata": {},
   "outputs": [],
   "source": []
  }
 ],
 "metadata": {
  "kernelspec": {
   "display_name": "Python 3",
   "language": "python",
   "name": "python3"
  },
  "language_info": {
   "codemirror_mode": {
    "name": "ipython",
    "version": 3
   },
   "file_extension": ".py",
   "mimetype": "text/x-python",
   "name": "python",
   "nbconvert_exporter": "python",
   "pygments_lexer": "ipython3",
   "version": "3.7.3"
  }
 },
 "nbformat": 4,
 "nbformat_minor": 4
}
