{
 "cells": [
  {
   "cell_type": "code",
   "execution_count": 4,
   "metadata": {},
   "outputs": [],
   "source": [
    "%load_ext autoreload\n",
    "%autoreload 2"
   ]
  },
  {
   "cell_type": "code",
   "execution_count": 12,
   "metadata": {},
   "outputs": [],
   "source": [
    "import numpy as np \n",
    "import NistoRoboto\n",
    "from NistoRoboto.prep.Mixture import Mixture\n",
    "from NistoRoboto.prep.Component import Component\n",
    "from NistoRoboto.prep.Deck import Deck\n",
    "from NistoRoboto.shared.exceptions import EmptyException"
   ]
  },
  {
   "cell_type": "code",
   "execution_count": 6,
   "metadata": {},
   "outputs": [],
   "source": [
    "H2O = Component('H2O',volume=1.0,density=1.0)\n",
    "D2O = Component('D2O',volume=1.0,density=1.11)\n",
    "polymer = Component('polymer',mass=1.0)"
   ]
  },
  {
   "cell_type": "code",
   "execution_count": 7,
   "metadata": {},
   "outputs": [],
   "source": [
    "stock_polymer = Mixture([H2O,polymer])\n",
    "stock_polymer.set_mass_fractions({'polymer':0.1,'H2O':0.9})\n",
    "stock_polymer.mass = 10"
   ]
  },
  {
   "cell_type": "code",
   "execution_count": 9,
   "metadata": {},
   "outputs": [],
   "source": [
    "stock_H2O = Mixture(H2O)\n",
    "stock_D2O = Mixture(D2O)\n",
    "stock_H2O.volume = 10\n",
    "stock_D2O.volume = 10"
   ]
  },
  {
   "cell_type": "code",
   "execution_count": 10,
   "metadata": {},
   "outputs": [],
   "source": [
    "target_solution = Mixture([H2O,D2O,polymer])\n",
    "target_solution.set_volume_fractions({'H2O':0.25,'D2O':0.75})\n",
    "target_solution.volume = 1.0\n",
    "target_solution.set_mass_concentration('polymer',0.001)"
   ]
  },
  {
   "cell_type": "code",
   "execution_count": 49,
   "metadata": {},
   "outputs": [],
   "source": [
    "deck =  Deck()\n",
    "deck.add_target(target_solution,'1A1')\n",
    "deck.add_stock(stock_H2O,'2A1')\n",
    "deck.add_stock(stock_D2O,'2A2')\n",
    "deck.add_stock(stock_polymer,'2A3')\n",
    "deck.add_pipette('p1000_single','left',tipracks=[(10,'opentrons_96_tiprack_1000ul')])\n",
    "deck.add_container('opentrons_96_wellplate',1)\n",
    "deck.add_container('opentrons_96_wellplate',2)\n",
    "deck.make_protocol()\n",
    "deck.make_script('test.py')"
   ]
  },
  {
   "cell_type": "code",
   "execution_count": null,
   "metadata": {},
   "outputs": [],
   "source": []
  },
  {
   "cell_type": "code",
   "execution_count": 2,
   "metadata": {},
   "outputs": [],
   "source": [
    "from NistoRoboto.RobotoClient import RobotoClient\n",
    "import requests"
   ]
  },
  {
   "cell_type": "code",
   "execution_count": 3,
   "metadata": {},
   "outputs": [],
   "source": [
    "rbc = RobotoClient('http://localhost:5000')"
   ]
  },
  {
   "cell_type": "code",
   "execution_count": 4,
   "metadata": {},
   "outputs": [],
   "source": [
    "rbc.login('mr_roboto')"
   ]
  },
  {
   "cell_type": "code",
   "execution_count": 6,
   "metadata": {},
   "outputs": [],
   "source": [
    "rbc.token\n",
    "rbc.headers\n",
    "#rbc.headers = {'Authorization':'Bearer {}'.format(rbc.token)}"
   ]
  },
  {
   "cell_type": "code",
   "execution_count": 7,
   "metadata": {},
   "outputs": [
    {
     "name": "stdout",
     "output_type": "stream",
     "text": [
      "<Response [200]>\n"
     ]
    }
   ],
   "source": [
    "rbc.transfer('left','1A1','2A2',1000)"
   ]
  },
  {
   "cell_type": "code",
   "execution_count": 54,
   "metadata": {},
   "outputs": [
    {
     "data": {
      "text/plain": [
       "<Response [401]>"
      ]
     },
     "execution_count": 54,
     "metadata": {},
     "output_type": "execute_result"
    }
   ],
   "source": [
    "kw  = {}\n",
    "kw['mount'] = 'left'\n",
    "kw['source'] = 'source'\n",
    "kw['dest'] = 'dest'\n",
    "kw['volume'] = 'volume'\n",
    "requests.post('http://localhost:5000/transfer',json=kw)"
   ]
  },
  {
   "cell_type": "code",
   "execution_count": 10,
   "metadata": {},
   "outputs": [
    {
     "data": {
      "text/plain": [
       "'03570'"
      ]
     },
     "execution_count": 10,
     "metadata": {},
     "output_type": "execute_result"
    }
   ],
   "source": []
  },
  {
   "cell_type": "code",
   "execution_count": 15,
   "metadata": {},
   "outputs": [
    {
     "data": {
      "text/plain": [
       "'http://10.42.0.31:5000/'"
      ]
     },
     "execution_count": 15,
     "metadata": {},
     "output_type": "execute_result"
    }
   ],
   "source": [
    "rbc.url"
   ]
  },
  {
   "cell_type": "code",
   "execution_count": 10,
   "metadata": {},
   "outputs": [
    {
     "data": {
      "text/plain": [
       "<Response [200]>"
      ]
     },
     "execution_count": 10,
     "metadata": {},
     "output_type": "execute_result"
    }
   ],
   "source": [
    "kw = {}\n",
    "kw['username'] = 'test'\n",
    "kw['password'] = 'domo_arigato'\n",
    "url = 'http://localhost:5000'\n",
    "reply = requests.post(url+'/login',json=kw)\n",
    "reply\n",
    "#token  = reply.json()['token']\n",
    "#headers = {'Authorization':'Bearer {}'.format(self.token)}"
   ]
  },
  {
   "cell_type": "code",
   "execution_count": 12,
   "metadata": {},
   "outputs": [
    {
     "data": {
      "text/plain": [
       "200"
      ]
     },
     "execution_count": 12,
     "metadata": {},
     "output_type": "execute_result"
    }
   ],
   "source": [
    "reply.status_code"
   ]
  },
  {
   "cell_type": "code",
   "execution_count": 9,
   "metadata": {},
   "outputs": [
    {
     "ename": "NameError",
     "evalue": "name 'reply' is not defined",
     "output_type": "error",
     "traceback": [
      "\u001b[0;31m---------------------------------------------------------------------------\u001b[0m",
      "\u001b[0;31mNameError\u001b[0m                                 Traceback (most recent call last)",
      "\u001b[0;32m<ipython-input-9-844caeb17033>\u001b[0m in \u001b[0;36m<module>\u001b[0;34m\u001b[0m\n\u001b[0;32m----> 1\u001b[0;31m \u001b[0mreply\u001b[0m\u001b[0;34m\u001b[0m\u001b[0;34m\u001b[0m\u001b[0m\n\u001b[0m",
      "\u001b[0;31mNameError\u001b[0m: name 'reply' is not defined"
     ]
    }
   ],
   "source": [
    "reply"
   ]
  },
  {
   "cell_type": "code",
   "execution_count": null,
   "metadata": {},
   "outputs": [],
   "source": []
  }
 ],
 "metadata": {
  "kernelspec": {
   "display_name": "Python 3",
   "language": "python",
   "name": "python3"
  },
  "language_info": {
   "codemirror_mode": {
    "name": "ipython",
    "version": 3
   },
   "file_extension": ".py",
   "mimetype": "text/x-python",
   "name": "python",
   "nbconvert_exporter": "python",
   "pygments_lexer": "ipython3",
   "version": "3.7.3"
  }
 },
 "nbformat": 4,
 "nbformat_minor": 4
}
