{
 "cells": [
  {
   "cell_type": "code",
   "execution_count": 1,
   "metadata": {},
   "outputs": [],
   "source": [
    "%load_ext autoreload\n",
    "%autoreload 2"
   ]
  },
  {
   "cell_type": "code",
   "execution_count": 2,
   "metadata": {},
   "outputs": [],
   "source": [
    "import sys\n",
    "sys.path.insert(0,'/home/nistoroboto/software/NistoRoboto/git/src/')"
   ]
  },
  {
   "cell_type": "code",
   "execution_count": 3,
   "metadata": {},
   "outputs": [],
   "source": [
    "import numpy as np \n",
    "import ipywidgets\n",
    "import matplotlib.pyplot as plt\n",
    "import requests\n",
    "import time\n",
    "import json\n",
    "import itertools \n",
    "import random"
   ]
  },
  {
   "cell_type": "markdown",
   "metadata": {},
   "source": [
    "# Initialize the OT2 Deck"
   ]
  },
  {
   "cell_type": "code",
   "execution_count": 27,
   "metadata": {},
   "outputs": [],
   "source": [
    "import NistoRoboto\n",
    "from NistoRoboto.prep.Mixture import Mixture\n",
    "from NistoRoboto.prep.Component import Component\n",
    "from NistoRoboto.prep.Deck import Deck\n",
    "from NistoRoboto.shared.exceptions import MixingException"
   ]
  },
  {
   "cell_type": "code",
   "execution_count": 5,
   "metadata": {},
   "outputs": [],
   "source": [
    "D2O = Component('D2O',mass=100.0,density=1.11)\n",
    "salt = Component('salt',mass=1.0)\n",
    "SDS = Component('SDS',mass=1.0)\n",
    "MW_NaCl = 58.44 #g/mol"
   ]
  },
  {
   "cell_type": "code",
   "execution_count": 6,
   "metadata": {},
   "outputs": [],
   "source": [
    "stock_D2O = Mixture([D2O])\n",
    "\n",
    "stock_SDS = Mixture([SDS,D2O])\n",
    "stock_SDS['SDS'].mass = 11.1024\n",
    "\n",
    "stock_salt = Mixture([salt,D2O])\n",
    "stock_salt['salt'].mass = 2.670"
   ]
  },
  {
   "cell_type": "code",
   "execution_count": 7,
   "metadata": {},
   "outputs": [],
   "source": [
    "target_solution = Mixture([D2O,SDS,salt])\n",
    "target_solution.mass = 1.6"
   ]
  },
  {
   "cell_type": "code",
   "execution_count": 8,
   "metadata": {},
   "outputs": [],
   "source": [
    "phi_SDS_list = [0.01,0.02,0.03,0.04,0.05,0.06,0.07,0.08,0.09]\n",
    "phi_salt_list = [0.0,0.001,0.002,0.003,0.004,0.005]\n",
    "phi_list = []\n",
    "for phi_SDS in phi_SDS_list:\n",
    "    for phi_salt in phi_salt_list:\n",
    "        phi_D2O = 1.0-phi_SDS-phi_salt\n",
    "        phi_list.append((phi_D2O,phi_SDS,phi_salt))\n",
    "phi_list = phi_list*2"
   ]
  },
  {
   "cell_type": "code",
   "execution_count": 9,
   "metadata": {},
   "outputs": [],
   "source": [
    "deck =  Deck()\n",
    "tipracks=[(10,'opentrons_96_tiprack_1000ul'),(11,'opentrons_96_tiprack_1000ul')]\n",
    "deck.add_pipette('p1000_single','left',tipracks=tipracks)\n",
    "\n",
    "tipracks=[(8,'opentrons_96_tiprack_300ul'),(9,'opentrons_96_tiprack_300ul')]\n",
    "deck.add_pipette('p300_single','right',tipracks=tipracks)"
   ]
  },
  {
   "cell_type": "code",
   "execution_count": 10,
   "metadata": {},
   "outputs": [],
   "source": [
    "deck.add_container('opentrons_24_aluminumblock_nest_1.5ml_snapcap',1)\n",
    "deck.add_container('opentrons_24_aluminumblock_nest_1.5ml_snapcap',2)\n",
    "deck.add_container('opentrons_24_aluminumblock_nest_1.5ml_snapcap',4)\n",
    "deck.add_container('opentrons_24_aluminumblock_nest_1.5ml_snapcap',5)\n",
    "deck.add_container('nist_2_100ml_poly_bottle',3)\n",
    "deck.add_container('nist_2_100ml_poly_bottle',6)\n",
    "deck.add_loader ('nist_1_10ml_syringeloader',7)"
   ]
  },
  {
   "cell_type": "code",
   "execution_count": 11,
   "metadata": {},
   "outputs": [],
   "source": [
    "deck.add_stock(stock_D2O,'3A1')\n",
    "deck.add_stock(stock_D2O,'3A2')\n",
    "deck.add_stock(stock_salt,'6A1')\n",
    "deck.add_stock(stock_SDS,'6A2')"
   ]
  },
  {
   "cell_type": "code",
   "execution_count": 12,
   "metadata": {
    "scrolled": true
   },
   "outputs": [
    {
     "name": "stdout",
     "output_type": "stream",
     "text": [
      "<PipetteAction Vol:257.597 3A1-->1A1>\n",
      "<PipetteAction Vol:257.597 3A2-->1A1>\n",
      "<PipetteAction Vol:269.933 6A1-->1A1>\n",
      "<PipetteAction Vol:584.242 6A2-->1A1>\n"
     ]
    }
   ],
   "source": [
    "target_solution = Mixture([D2O,SDS,salt])\n",
    "target_solution.mass = 1.6\n",
    "\n",
    "phi_D2O = 0.95\n",
    "phi_SDS = 0.045\n",
    "phi_salt = 0.005\n",
    "target_solution.set_mass_fractions({'D2O':phi_D2O,'SDS':phi_SDS,'salt':phi_salt})\n",
    "deck.reset_targets()\n",
    "deck.add_target(target_solution,'1A1')\n",
    "deck.make_protocol(volume_cutoff=0.03)\n",
    "for p in deck.protocol:\n",
    "    print(p)\n"
   ]
  },
  {
   "cell_type": "code",
   "execution_count": 13,
   "metadata": {},
   "outputs": [],
   "source": [
    "deck.make_script('align.py')"
   ]
  },
  {
   "cell_type": "code",
   "execution_count": 14,
   "metadata": {},
   "outputs": [],
   "source": [
    "deck.reset_stocks()\n",
    "deck.add_stock(stock_D2O,'3A1')\n",
    "deck.add_stock(stock_D2O,'3A2')\n",
    "deck.add_stock(stock_salt,'6A1')\n",
    "deck.add_stock(stock_SDS,'6A2')"
   ]
  },
  {
   "cell_type": "code",
   "execution_count": 15,
   "metadata": {},
   "outputs": [],
   "source": [
    "deck.init_remote_connection('10.42.0.30',home=True)\n",
    "deck.send_deck_config()"
   ]
  },
  {
   "cell_type": "markdown",
   "metadata": {},
   "source": [
    "# Intialize the Nice client"
   ]
  },
  {
   "cell_type": "code",
   "execution_count": 16,
   "metadata": {},
   "outputs": [],
   "source": [
    "import nice\n",
    "nice_client = nice.connect(host='NGBSANS.ncnr.nist.gov')\n",
    "import NiceLib"
   ]
  },
  {
   "cell_type": "code",
   "execution_count": 17,
   "metadata": {},
   "outputs": [],
   "source": [
    "def measure_sans(client,params,runGroup=10,prefix='ROBOT',user='NGB'):\n",
    "    params_str = json.dumps(params).replace(':','=')\n",
    "    cmd = f'runPoint {params_str} -g {runGroup} -p \\\"{prefix}\\\" -u \\\"{user}\\\"'\n",
    "    print(cmd)\n",
    "    client.console(cmd)\n",
    "    # client.console_wait(cmd)"
   ]
  },
  {
   "cell_type": "markdown",
   "metadata": {},
   "source": [
    "## Initialize the Cell Client"
   ]
  },
  {
   "cell_type": "code",
   "execution_count": 18,
   "metadata": {},
   "outputs": [],
   "source": [
    "from NistoRoboto.DeviceServer.Client import Client\n",
    "cell_client = Client('localhost')\n",
    "cell_client.login('CellClient')\n"
   ]
  },
  {
   "cell_type": "markdown",
   "metadata": {},
   "source": [
    "# Run Measurement"
   ]
  },
  {
   "cell_type": "code",
   "execution_count": 24,
   "metadata": {},
   "outputs": [],
   "source": [
    "nice_params ={\n",
    "'counter.countAgainst':'TIME',\n",
    "'counter.timePreset':'300.0', \n",
    "'configuration':'1p15m 5A Offset Scatt',\n",
    "'groupid':'21', \n",
    "'filePurpose':'SCATTERING', \n",
    "'intent':'Sample', \n",
    "'sample.description':'Test', \n",
    "'sample.thickness':'1.0', \n",
    "    \n",
    "} \n",
    "\n",
    "sans_configs = []\n",
    "sans_configs.append(('1p15m 5A Offset',300))\n",
    "sans_configs.append(('5p2m 5A',600))\n",
    "sans_configs.append(('5p2m 12A',1200))"
   ]
  },
  {
   "cell_type": "code",
   "execution_count": 21,
   "metadata": {
    "scrolled": true
   },
   "outputs": [
    {
     "data": {
      "text/plain": [
       "['1A1',\n",
       " '1A2',\n",
       " '1A3',\n",
       " '1A4',\n",
       " '1A5',\n",
       " '1A6',\n",
       " '1B1',\n",
       " '1B2',\n",
       " '1B3',\n",
       " '1B4',\n",
       " '1B5',\n",
       " '1B6',\n",
       " '1C1',\n",
       " '1C2',\n",
       " '1C3',\n",
       " '1C4',\n",
       " '1C5',\n",
       " '1C6',\n",
       " '1D1',\n",
       " '1D2',\n",
       " '1D3',\n",
       " '1D4',\n",
       " '1D5',\n",
       " '1D6',\n",
       " '2A1',\n",
       " '2A2',\n",
       " '2A3',\n",
       " '2A4',\n",
       " '2A5',\n",
       " '2A6',\n",
       " '2B1',\n",
       " '2B2',\n",
       " '2B3',\n",
       " '2B4',\n",
       " '2B5',\n",
       " '2B6',\n",
       " '2C1',\n",
       " '2C2',\n",
       " '2C3',\n",
       " '2C4',\n",
       " '2C5',\n",
       " '2C6',\n",
       " '2D1',\n",
       " '2D2',\n",
       " '2D3',\n",
       " '2D4',\n",
       " '2D5',\n",
       " '2D6',\n",
       " '4A1',\n",
       " '4A2',\n",
       " '4A3',\n",
       " '4A4',\n",
       " '4A5',\n",
       " '4A6',\n",
       " '4B1',\n",
       " '4B2',\n",
       " '4B3',\n",
       " '4B4',\n",
       " '4B5',\n",
       " '4B6',\n",
       " '4C1',\n",
       " '4C2',\n",
       " '4C3',\n",
       " '4C4',\n",
       " '4C5',\n",
       " '4C6',\n",
       " '4D1',\n",
       " '4D2',\n",
       " '4D3',\n",
       " '4D4',\n",
       " '4D5',\n",
       " '4D6',\n",
       " '5A1',\n",
       " '5A2',\n",
       " '5A3',\n",
       " '5A4',\n",
       " '5A5',\n",
       " '5A6',\n",
       " '5B1',\n",
       " '5B2',\n",
       " '5B3',\n",
       " '5B4',\n",
       " '5B5',\n",
       " '5B6',\n",
       " '5C1',\n",
       " '5C2',\n",
       " '5C3',\n",
       " '5C4',\n",
       " '5C5',\n",
       " '5C6',\n",
       " '5D1',\n",
       " '5D2',\n",
       " '5D3',\n",
       " '5D4',\n",
       " '5D5',\n",
       " '5D6']"
      ]
     },
     "execution_count": 21,
     "metadata": {},
     "output_type": "execute_result"
    }
   ],
   "source": [
    "blocks = [1,2,4,5]\n",
    "cols = range(6)\n",
    "rows = ['A','B','C','D']\n",
    "target_locs = []\n",
    "for block in blocks:\n",
    "    for r in rows:\n",
    "        for c in cols:\n",
    "            target_locs.append(str(block)+r+str(c+1))\n",
    "        \n",
    "target_locs"
   ]
  },
  {
   "cell_type": "code",
   "execution_count": 25,
   "metadata": {},
   "outputs": [],
   "source": [
    "cell_client.wait()"
   ]
  },
  {
   "cell_type": "code",
   "execution_count": 26,
   "metadata": {},
   "outputs": [
    {
     "name": "stdout",
     "output_type": "stream",
     "text": [
      "--> Making protocol for sample (0.986, 0.01, 0.004)\n",
      "--> Making and loading sample (0.986, 0.01, 0.004)\n",
      "--> Loading sample (0.986, 0.01, 0.004) into flow-cell\n",
      "--> Asking NICE to measure sample (0.986, 0.01, 0.004)\n",
      "runPoint {\"counter.countAgainst\"= \"TIME\", \"counter.timePreset\"= \"300\", \"configuration\"= \"1p15m 5A Offset Scatt\", \"groupid\"= \"21\", \"filePurpose\"= \"SCATTERING\", \"intent\"= \"Sample\", \"sample.description\"= \"D2O=0.986 SDS=0.010 NaCl=0.004 1p15m 5A Offset Scatt\", \"sample.thickness\"= \"1.0\"} -g 10 -p \"ROBOT\" -u \"NGB\"\n",
      "--> Asking NICE to measure transmission of (0.986, 0.01, 0.004)\n",
      "runPoint {\"counter.countAgainst\"= \"TIME\", \"counter.timePreset\"= \"180\", \"configuration\"= \"1p15m 5A Offset Trans\", \"groupid\"= \"21\", \"filePurpose\"= \"TRANSMISSION\", \"intent\"= \"Sample\", \"sample.description\"= \"D2O=0.986 SDS=0.010 NaCl=0.004 1p15m 5A Offset Trans\", \"sample.thickness\"= \"1.0\"} -g 10 -p \"ROBOT\" -u \"NGB\"\n",
      "--> Asking NICE to measure sample (0.986, 0.01, 0.004)\n",
      "runPoint {\"counter.countAgainst\"= \"TIME\", \"counter.timePreset\"= \"600\", \"configuration\"= \"5p2m 5A Scatt\", \"groupid\"= \"21\", \"filePurpose\"= \"SCATTERING\", \"intent\"= \"Sample\", \"sample.description\"= \"D2O=0.986 SDS=0.010 NaCl=0.004 5p2m 5A Scatt\", \"sample.thickness\"= \"1.0\"} -g 10 -p \"ROBOT\" -u \"NGB\"\n",
      "--> Asking NICE to measure transmission of (0.986, 0.01, 0.004)\n",
      "runPoint {\"counter.countAgainst\"= \"TIME\", \"counter.timePreset\"= \"180\", \"configuration\"= \"5p2m 5A Trans\", \"groupid\"= \"21\", \"filePurpose\"= \"TRANSMISSION\", \"intent\"= \"Sample\", \"sample.description\"= \"D2O=0.986 SDS=0.010 NaCl=0.004 5p2m 5A Trans\", \"sample.thickness\"= \"1.0\"} -g 10 -p \"ROBOT\" -u \"NGB\"\n",
      "--> Asking NICE to measure sample (0.986, 0.01, 0.004)\n",
      "runPoint {\"counter.countAgainst\"= \"TIME\", \"counter.timePreset\"= \"1200\", \"configuration\"= \"5p2m 12A Scatt\", \"groupid\"= \"21\", \"filePurpose\"= \"SCATTERING\", \"intent\"= \"Sample\", \"sample.description\"= \"D2O=0.986 SDS=0.010 NaCl=0.004 5p2m 12A Scatt\", \"sample.thickness\"= \"1.0\"} -g 10 -p \"ROBOT\" -u \"NGB\"\n",
      "--> Asking NICE to measure transmission of (0.986, 0.01, 0.004)\n",
      "runPoint {\"counter.countAgainst\"= \"TIME\", \"counter.timePreset\"= \"180\", \"configuration\"= \"5p2m 12A Trans\", \"groupid\"= \"21\", \"filePurpose\"= \"TRANSMISSION\", \"intent\"= \"Sample\", \"sample.description\"= \"D2O=0.986 SDS=0.010 NaCl=0.004 5p2m 12A Trans\", \"sample.thickness\"= \"1.0\"} -g 10 -p \"ROBOT\" -u \"NGB\"\n",
      "--> Waiting for NICE to measure (0.986, 0.01, 0.004)\n",
      "--> Cleaning up sample (0.986, 0.01, 0.004)\n",
      "--> All done for (0.986, 0.01, 0.004)\n",
      "--> Making protocol for sample (0.938, 0.06, 0.002)\n",
      "--> Making and loading sample (0.938, 0.06, 0.002)\n",
      "--> Loading sample (0.938, 0.06, 0.002) into flow-cell\n",
      "--> Asking NICE to measure sample (0.938, 0.06, 0.002)\n",
      "runPoint {\"counter.countAgainst\"= \"TIME\", \"counter.timePreset\"= \"300\", \"configuration\"= \"1p15m 5A Offset Scatt\", \"groupid\"= \"21\", \"filePurpose\"= \"SCATTERING\", \"intent\"= \"Sample\", \"sample.description\"= \"D2O=0.938 SDS=0.060 NaCl=0.002 1p15m 5A Offset Scatt\", \"sample.thickness\"= \"1.0\"} -g 10 -p \"ROBOT\" -u \"NGB\"\n",
      "--> Asking NICE to measure transmission of (0.938, 0.06, 0.002)\n",
      "runPoint {\"counter.countAgainst\"= \"TIME\", \"counter.timePreset\"= \"180\", \"configuration\"= \"1p15m 5A Offset Trans\", \"groupid\"= \"21\", \"filePurpose\"= \"TRANSMISSION\", \"intent\"= \"Sample\", \"sample.description\"= \"D2O=0.938 SDS=0.060 NaCl=0.002 1p15m 5A Offset Trans\", \"sample.thickness\"= \"1.0\"} -g 10 -p \"ROBOT\" -u \"NGB\"\n",
      "--> Asking NICE to measure sample (0.938, 0.06, 0.002)\n",
      "runPoint {\"counter.countAgainst\"= \"TIME\", \"counter.timePreset\"= \"600\", \"configuration\"= \"5p2m 5A Scatt\", \"groupid\"= \"21\", \"filePurpose\"= \"SCATTERING\", \"intent\"= \"Sample\", \"sample.description\"= \"D2O=0.938 SDS=0.060 NaCl=0.002 5p2m 5A Scatt\", \"sample.thickness\"= \"1.0\"} -g 10 -p \"ROBOT\" -u \"NGB\"\n",
      "--> Asking NICE to measure transmission of (0.938, 0.06, 0.002)\n",
      "runPoint {\"counter.countAgainst\"= \"TIME\", \"counter.timePreset\"= \"180\", \"configuration\"= \"5p2m 5A Trans\", \"groupid\"= \"21\", \"filePurpose\"= \"TRANSMISSION\", \"intent\"= \"Sample\", \"sample.description\"= \"D2O=0.938 SDS=0.060 NaCl=0.002 5p2m 5A Trans\", \"sample.thickness\"= \"1.0\"} -g 10 -p \"ROBOT\" -u \"NGB\"\n",
      "--> Asking NICE to measure sample (0.938, 0.06, 0.002)\n",
      "runPoint {\"counter.countAgainst\"= \"TIME\", \"counter.timePreset\"= \"1200\", \"configuration\"= \"5p2m 12A Scatt\", \"groupid\"= \"21\", \"filePurpose\"= \"SCATTERING\", \"intent\"= \"Sample\", \"sample.description\"= \"D2O=0.938 SDS=0.060 NaCl=0.002 5p2m 12A Scatt\", \"sample.thickness\"= \"1.0\"} -g 10 -p \"ROBOT\" -u \"NGB\"\n",
      "--> Asking NICE to measure transmission of (0.938, 0.06, 0.002)\n",
      "runPoint {\"counter.countAgainst\"= \"TIME\", \"counter.timePreset\"= \"180\", \"configuration\"= \"5p2m 12A Trans\", \"groupid\"= \"21\", \"filePurpose\"= \"TRANSMISSION\", \"intent\"= \"Sample\", \"sample.description\"= \"D2O=0.938 SDS=0.060 NaCl=0.002 5p2m 12A Trans\", \"sample.thickness\"= \"1.0\"} -g 10 -p \"ROBOT\" -u \"NGB\"\n",
      "--> Waiting for NICE to measure (0.938, 0.06, 0.002)\n",
      "--> Cleaning up sample (0.938, 0.06, 0.002)\n",
      "--> All done for (0.938, 0.06, 0.002)\n",
      "--> Making protocol for sample (0.99, 0.01, 0.0)\n",
      "--> Making and loading sample (0.99, 0.01, 0.0)\n",
      "--> Loading sample (0.99, 0.01, 0.0) into flow-cell\n",
      "--> Asking NICE to measure sample (0.99, 0.01, 0.0)\n",
      "runPoint {\"counter.countAgainst\"= \"TIME\", \"counter.timePreset\"= \"300\", \"configuration\"= \"1p15m 5A Offset Scatt\", \"groupid\"= \"21\", \"filePurpose\"= \"SCATTERING\", \"intent\"= \"Sample\", \"sample.description\"= \"D2O=0.990 SDS=0.010 NaCl=0.000 1p15m 5A Offset Scatt\", \"sample.thickness\"= \"1.0\"} -g 10 -p \"ROBOT\" -u \"NGB\"\n",
      "--> Asking NICE to measure transmission of (0.99, 0.01, 0.0)\n",
      "runPoint {\"counter.countAgainst\"= \"TIME\", \"counter.timePreset\"= \"180\", \"configuration\"= \"1p15m 5A Offset Trans\", \"groupid\"= \"21\", \"filePurpose\"= \"TRANSMISSION\", \"intent\"= \"Sample\", \"sample.description\"= \"D2O=0.990 SDS=0.010 NaCl=0.000 1p15m 5A Offset Trans\", \"sample.thickness\"= \"1.0\"} -g 10 -p \"ROBOT\" -u \"NGB\"\n",
      "--> Asking NICE to measure sample (0.99, 0.01, 0.0)\n",
      "runPoint {\"counter.countAgainst\"= \"TIME\", \"counter.timePreset\"= \"600\", \"configuration\"= \"5p2m 5A Scatt\", \"groupid\"= \"21\", \"filePurpose\"= \"SCATTERING\", \"intent\"= \"Sample\", \"sample.description\"= \"D2O=0.990 SDS=0.010 NaCl=0.000 5p2m 5A Scatt\", \"sample.thickness\"= \"1.0\"} -g 10 -p \"ROBOT\" -u \"NGB\"\n",
      "--> Asking NICE to measure transmission of (0.99, 0.01, 0.0)\n",
      "runPoint {\"counter.countAgainst\"= \"TIME\", \"counter.timePreset\"= \"180\", \"configuration\"= \"5p2m 5A Trans\", \"groupid\"= \"21\", \"filePurpose\"= \"TRANSMISSION\", \"intent\"= \"Sample\", \"sample.description\"= \"D2O=0.990 SDS=0.010 NaCl=0.000 5p2m 5A Trans\", \"sample.thickness\"= \"1.0\"} -g 10 -p \"ROBOT\" -u \"NGB\"\n",
      "--> Asking NICE to measure sample (0.99, 0.01, 0.0)\n",
      "runPoint {\"counter.countAgainst\"= \"TIME\", \"counter.timePreset\"= \"1200\", \"configuration\"= \"5p2m 12A Scatt\", \"groupid\"= \"21\", \"filePurpose\"= \"SCATTERING\", \"intent\"= \"Sample\", \"sample.description\"= \"D2O=0.990 SDS=0.010 NaCl=0.000 5p2m 12A Scatt\", \"sample.thickness\"= \"1.0\"} -g 10 -p \"ROBOT\" -u \"NGB\"\n",
      "--> Asking NICE to measure transmission of (0.99, 0.01, 0.0)\n",
      "runPoint {\"counter.countAgainst\"= \"TIME\", \"counter.timePreset\"= \"180\", \"configuration\"= \"5p2m 12A Trans\", \"groupid\"= \"21\", \"filePurpose\"= \"TRANSMISSION\", \"intent\"= \"Sample\", \"sample.description\"= \"D2O=0.990 SDS=0.010 NaCl=0.000 5p2m 12A Trans\", \"sample.thickness\"= \"1.0\"} -g 10 -p \"ROBOT\" -u \"NGB\"\n",
      "--> Waiting for NICE to measure (0.99, 0.01, 0.0)\n",
      "--> Cleaning up sample (0.99, 0.01, 0.0)\n",
      "--> All done for (0.99, 0.01, 0.0)\n",
      "--> Making protocol for sample (0.96, 0.04, 0.0)\n",
      "--> Making and loading sample (0.96, 0.04, 0.0)\n",
      "--> Loading sample (0.96, 0.04, 0.0) into flow-cell\n",
      "--> Asking NICE to measure sample (0.96, 0.04, 0.0)\n",
      "runPoint {\"counter.countAgainst\"= \"TIME\", \"counter.timePreset\"= \"300\", \"configuration\"= \"1p15m 5A Offset Scatt\", \"groupid\"= \"21\", \"filePurpose\"= \"SCATTERING\", \"intent\"= \"Sample\", \"sample.description\"= \"D2O=0.960 SDS=0.040 NaCl=0.000 1p15m 5A Offset Scatt\", \"sample.thickness\"= \"1.0\"} -g 10 -p \"ROBOT\" -u \"NGB\"\n",
      "--> Asking NICE to measure transmission of (0.96, 0.04, 0.0)\n",
      "runPoint {\"counter.countAgainst\"= \"TIME\", \"counter.timePreset\"= \"180\", \"configuration\"= \"1p15m 5A Offset Trans\", \"groupid\"= \"21\", \"filePurpose\"= \"TRANSMISSION\", \"intent\"= \"Sample\", \"sample.description\"= \"D2O=0.960 SDS=0.040 NaCl=0.000 1p15m 5A Offset Trans\", \"sample.thickness\"= \"1.0\"} -g 10 -p \"ROBOT\" -u \"NGB\"\n",
      "--> Asking NICE to measure sample (0.96, 0.04, 0.0)\n",
      "runPoint {\"counter.countAgainst\"= \"TIME\", \"counter.timePreset\"= \"600\", \"configuration\"= \"5p2m 5A Scatt\", \"groupid\"= \"21\", \"filePurpose\"= \"SCATTERING\", \"intent\"= \"Sample\", \"sample.description\"= \"D2O=0.960 SDS=0.040 NaCl=0.000 5p2m 5A Scatt\", \"sample.thickness\"= \"1.0\"} -g 10 -p \"ROBOT\" -u \"NGB\"\n",
      "--> Asking NICE to measure transmission of (0.96, 0.04, 0.0)\n",
      "runPoint {\"counter.countAgainst\"= \"TIME\", \"counter.timePreset\"= \"180\", \"configuration\"= \"5p2m 5A Trans\", \"groupid\"= \"21\", \"filePurpose\"= \"TRANSMISSION\", \"intent\"= \"Sample\", \"sample.description\"= \"D2O=0.960 SDS=0.040 NaCl=0.000 5p2m 5A Trans\", \"sample.thickness\"= \"1.0\"} -g 10 -p \"ROBOT\" -u \"NGB\"\n",
      "--> Asking NICE to measure sample (0.96, 0.04, 0.0)\n",
      "runPoint {\"counter.countAgainst\"= \"TIME\", \"counter.timePreset\"= \"1200\", \"configuration\"= \"5p2m 12A Scatt\", \"groupid\"= \"21\", \"filePurpose\"= \"SCATTERING\", \"intent\"= \"Sample\", \"sample.description\"= \"D2O=0.960 SDS=0.040 NaCl=0.000 5p2m 12A Scatt\", \"sample.thickness\"= \"1.0\"} -g 10 -p \"ROBOT\" -u \"NGB\"\n",
      "--> Asking NICE to measure transmission of (0.96, 0.04, 0.0)\n",
      "runPoint {\"counter.countAgainst\"= \"TIME\", \"counter.timePreset\"= \"180\", \"configuration\"= \"5p2m 12A Trans\", \"groupid\"= \"21\", \"filePurpose\"= \"TRANSMISSION\", \"intent\"= \"Sample\", \"sample.description\"= \"D2O=0.960 SDS=0.040 NaCl=0.000 5p2m 12A Trans\", \"sample.thickness\"= \"1.0\"} -g 10 -p \"ROBOT\" -u \"NGB\"\n",
      "--> Waiting for NICE to measure (0.96, 0.04, 0.0)\n",
      "--> Cleaning up sample (0.96, 0.04, 0.0)\n",
      "--> All done for (0.96, 0.04, 0.0)\n",
      "--> Making protocol for sample (0.957, 0.04, 0.003)\n",
      "--> Making and loading sample (0.957, 0.04, 0.003)\n",
      "--> Loading sample (0.957, 0.04, 0.003) into flow-cell\n",
      "--> Asking NICE to measure sample (0.957, 0.04, 0.003)\n",
      "runPoint {\"counter.countAgainst\"= \"TIME\", \"counter.timePreset\"= \"300\", \"configuration\"= \"1p15m 5A Offset Scatt\", \"groupid\"= \"21\", \"filePurpose\"= \"SCATTERING\", \"intent\"= \"Sample\", \"sample.description\"= \"D2O=0.957 SDS=0.040 NaCl=0.003 1p15m 5A Offset Scatt\", \"sample.thickness\"= \"1.0\"} -g 10 -p \"ROBOT\" -u \"NGB\"\n",
      "--> Asking NICE to measure transmission of (0.957, 0.04, 0.003)\n",
      "runPoint {\"counter.countAgainst\"= \"TIME\", \"counter.timePreset\"= \"180\", \"configuration\"= \"1p15m 5A Offset Trans\", \"groupid\"= \"21\", \"filePurpose\"= \"TRANSMISSION\", \"intent\"= \"Sample\", \"sample.description\"= \"D2O=0.957 SDS=0.040 NaCl=0.003 1p15m 5A Offset Trans\", \"sample.thickness\"= \"1.0\"} -g 10 -p \"ROBOT\" -u \"NGB\"\n",
      "--> Asking NICE to measure sample (0.957, 0.04, 0.003)\n",
      "runPoint {\"counter.countAgainst\"= \"TIME\", \"counter.timePreset\"= \"600\", \"configuration\"= \"5p2m 5A Scatt\", \"groupid\"= \"21\", \"filePurpose\"= \"SCATTERING\", \"intent\"= \"Sample\", \"sample.description\"= \"D2O=0.957 SDS=0.040 NaCl=0.003 5p2m 5A Scatt\", \"sample.thickness\"= \"1.0\"} -g 10 -p \"ROBOT\" -u \"NGB\"\n",
      "--> Asking NICE to measure transmission of (0.957, 0.04, 0.003)\n",
      "runPoint {\"counter.countAgainst\"= \"TIME\", \"counter.timePreset\"= \"180\", \"configuration\"= \"5p2m 5A Trans\", \"groupid\"= \"21\", \"filePurpose\"= \"TRANSMISSION\", \"intent\"= \"Sample\", \"sample.description\"= \"D2O=0.957 SDS=0.040 NaCl=0.003 5p2m 5A Trans\", \"sample.thickness\"= \"1.0\"} -g 10 -p \"ROBOT\" -u \"NGB\"\n",
      "--> Asking NICE to measure sample (0.957, 0.04, 0.003)\n",
      "runPoint {\"counter.countAgainst\"= \"TIME\", \"counter.timePreset\"= \"1200\", \"configuration\"= \"5p2m 12A Scatt\", \"groupid\"= \"21\", \"filePurpose\"= \"SCATTERING\", \"intent\"= \"Sample\", \"sample.description\"= \"D2O=0.957 SDS=0.040 NaCl=0.003 5p2m 12A Scatt\", \"sample.thickness\"= \"1.0\"} -g 10 -p \"ROBOT\" -u \"NGB\"\n",
      "--> Asking NICE to measure transmission of (0.957, 0.04, 0.003)\n",
      "runPoint {\"counter.countAgainst\"= \"TIME\", \"counter.timePreset\"= \"180\", \"configuration\"= \"5p2m 12A Trans\", \"groupid\"= \"21\", \"filePurpose\"= \"TRANSMISSION\", \"intent\"= \"Sample\", \"sample.description\"= \"D2O=0.957 SDS=0.040 NaCl=0.003 5p2m 12A Trans\", \"sample.thickness\"= \"1.0\"} -g 10 -p \"ROBOT\" -u \"NGB\"\n",
      "--> Waiting for NICE to measure (0.957, 0.04, 0.003)\n",
      "--> Cleaning up sample (0.957, 0.04, 0.003)\n",
      "--> All done for (0.957, 0.04, 0.003)\n",
      "--> Making protocol for sample (0.917, 0.08, 0.003)\n",
      "--> Making and loading sample (0.917, 0.08, 0.003)\n",
      "--> Loading sample (0.917, 0.08, 0.003) into flow-cell\n",
      "--> Asking NICE to measure sample (0.917, 0.08, 0.003)\n",
      "runPoint {\"counter.countAgainst\"= \"TIME\", \"counter.timePreset\"= \"300\", \"configuration\"= \"1p15m 5A Offset Scatt\", \"groupid\"= \"21\", \"filePurpose\"= \"SCATTERING\", \"intent\"= \"Sample\", \"sample.description\"= \"D2O=0.917 SDS=0.080 NaCl=0.003 1p15m 5A Offset Scatt\", \"sample.thickness\"= \"1.0\"} -g 10 -p \"ROBOT\" -u \"NGB\"\n",
      "--> Asking NICE to measure transmission of (0.917, 0.08, 0.003)\n",
      "runPoint {\"counter.countAgainst\"= \"TIME\", \"counter.timePreset\"= \"180\", \"configuration\"= \"1p15m 5A Offset Trans\", \"groupid\"= \"21\", \"filePurpose\"= \"TRANSMISSION\", \"intent\"= \"Sample\", \"sample.description\"= \"D2O=0.917 SDS=0.080 NaCl=0.003 1p15m 5A Offset Trans\", \"sample.thickness\"= \"1.0\"} -g 10 -p \"ROBOT\" -u \"NGB\"\n",
      "--> Asking NICE to measure sample (0.917, 0.08, 0.003)\n",
      "runPoint {\"counter.countAgainst\"= \"TIME\", \"counter.timePreset\"= \"600\", \"configuration\"= \"5p2m 5A Scatt\", \"groupid\"= \"21\", \"filePurpose\"= \"SCATTERING\", \"intent\"= \"Sample\", \"sample.description\"= \"D2O=0.917 SDS=0.080 NaCl=0.003 5p2m 5A Scatt\", \"sample.thickness\"= \"1.0\"} -g 10 -p \"ROBOT\" -u \"NGB\"\n",
      "--> Asking NICE to measure transmission of (0.917, 0.08, 0.003)\n",
      "runPoint {\"counter.countAgainst\"= \"TIME\", \"counter.timePreset\"= \"180\", \"configuration\"= \"5p2m 5A Trans\", \"groupid\"= \"21\", \"filePurpose\"= \"TRANSMISSION\", \"intent\"= \"Sample\", \"sample.description\"= \"D2O=0.917 SDS=0.080 NaCl=0.003 5p2m 5A Trans\", \"sample.thickness\"= \"1.0\"} -g 10 -p \"ROBOT\" -u \"NGB\"\n",
      "--> Asking NICE to measure sample (0.917, 0.08, 0.003)\n",
      "runPoint {\"counter.countAgainst\"= \"TIME\", \"counter.timePreset\"= \"1200\", \"configuration\"= \"5p2m 12A Scatt\", \"groupid\"= \"21\", \"filePurpose\"= \"SCATTERING\", \"intent\"= \"Sample\", \"sample.description\"= \"D2O=0.917 SDS=0.080 NaCl=0.003 5p2m 12A Scatt\", \"sample.thickness\"= \"1.0\"} -g 10 -p \"ROBOT\" -u \"NGB\"\n",
      "--> Asking NICE to measure transmission of (0.917, 0.08, 0.003)\n",
      "runPoint {\"counter.countAgainst\"= \"TIME\", \"counter.timePreset\"= \"180\", \"configuration\"= \"5p2m 12A Trans\", \"groupid\"= \"21\", \"filePurpose\"= \"TRANSMISSION\", \"intent\"= \"Sample\", \"sample.description\"= \"D2O=0.917 SDS=0.080 NaCl=0.003 5p2m 12A Trans\", \"sample.thickness\"= \"1.0\"} -g 10 -p \"ROBOT\" -u \"NGB\"\n",
      "--> Waiting for NICE to measure (0.917, 0.08, 0.003)\n",
      "--> Cleaning up sample (0.917, 0.08, 0.003)\n",
      "--> All done for (0.917, 0.08, 0.003)\n",
      "--> Making protocol for sample (0.905, 0.09, 0.005)\n"
     ]
    },
    {
     "ename": "NameError",
     "evalue": "name 'MixingException' is not defined",
     "output_type": "error",
     "traceback": [
      "\u001b[0;31m---------------------------------------------------------------------------\u001b[0m",
      "\u001b[0;31mRuntimeError\u001b[0m                              Traceback (most recent call last)",
      "\u001b[0;32m<ipython-input-26-fe971163697a>\u001b[0m in \u001b[0;36m<module>\u001b[0;34m\u001b[0m\n\u001b[1;32m     12\u001b[0m     \u001b[0;32mtry\u001b[0m\u001b[0;34m:\u001b[0m\u001b[0;34m\u001b[0m\u001b[0;34m\u001b[0m\u001b[0m\n\u001b[0;32m---> 13\u001b[0;31m         \u001b[0mdeck\u001b[0m\u001b[0;34m.\u001b[0m\u001b[0mmake_protocol\u001b[0m\u001b[0;34m(\u001b[0m\u001b[0mvolume_cutoff\u001b[0m\u001b[0;34m=\u001b[0m\u001b[0;36m0.03\u001b[0m\u001b[0;34m)\u001b[0m\u001b[0;34m\u001b[0m\u001b[0;34m\u001b[0m\u001b[0m\n\u001b[0m\u001b[1;32m     14\u001b[0m     \u001b[0;32mexcept\u001b[0m \u001b[0;34m(\u001b[0m\u001b[0mMixingException\u001b[0m\u001b[0;34m,\u001b[0m \u001b[0mRuntimeError\u001b[0m\u001b[0;34m)\u001b[0m\u001b[0;34m:\u001b[0m\u001b[0;34m\u001b[0m\u001b[0;34m\u001b[0m\u001b[0m\n",
      "\u001b[0;32m~/software/NistoRoboto/git/src/NistoRoboto/prep/Deck.py\u001b[0m in \u001b[0;36mmake_protocol\u001b[0;34m(self, deplete, volume_cutoff)\u001b[0m\n\u001b[1;32m    233\u001b[0m             \u001b[0;32mif\u001b[0m \u001b[0;32mnot\u001b[0m \u001b[0;34m(\u001b[0m\u001b[0mtarget\u001b[0m \u001b[0;34m==\u001b[0m \u001b[0mself\u001b[0m\u001b[0;34m.\u001b[0m\u001b[0mtarget_check\u001b[0m\u001b[0;34m)\u001b[0m\u001b[0;34m:\u001b[0m\u001b[0;34m\u001b[0m\u001b[0;34m\u001b[0m\u001b[0m\n\u001b[0;32m--> 234\u001b[0;31m                 \u001b[0;32mraise\u001b[0m \u001b[0mRuntimeError\u001b[0m\u001b[0;34m(\u001b[0m\u001b[0;34m'Mass transfer calculation failed...'\u001b[0m\u001b[0;34m)\u001b[0m\u001b[0;34m\u001b[0m\u001b[0;34m\u001b[0m\u001b[0m\n\u001b[0m\u001b[1;32m    235\u001b[0m \u001b[0;34m\u001b[0m\u001b[0m\n",
      "\u001b[0;31mRuntimeError\u001b[0m: Mass transfer calculation failed...",
      "\nDuring handling of the above exception, another exception occurred:\n",
      "\u001b[0;31mNameError\u001b[0m                                 Traceback (most recent call last)",
      "\u001b[0;32m<ipython-input-26-fe971163697a>\u001b[0m in \u001b[0;36m<module>\u001b[0;34m\u001b[0m\n\u001b[1;32m     12\u001b[0m     \u001b[0;32mtry\u001b[0m\u001b[0;34m:\u001b[0m\u001b[0;34m\u001b[0m\u001b[0;34m\u001b[0m\u001b[0m\n\u001b[1;32m     13\u001b[0m         \u001b[0mdeck\u001b[0m\u001b[0;34m.\u001b[0m\u001b[0mmake_protocol\u001b[0m\u001b[0;34m(\u001b[0m\u001b[0mvolume_cutoff\u001b[0m\u001b[0;34m=\u001b[0m\u001b[0;36m0.03\u001b[0m\u001b[0;34m)\u001b[0m\u001b[0;34m\u001b[0m\u001b[0;34m\u001b[0m\u001b[0m\n\u001b[0;32m---> 14\u001b[0;31m     \u001b[0;32mexcept\u001b[0m \u001b[0;34m(\u001b[0m\u001b[0mMixingException\u001b[0m\u001b[0;34m,\u001b[0m \u001b[0mRuntimeError\u001b[0m\u001b[0;34m)\u001b[0m\u001b[0;34m:\u001b[0m\u001b[0;34m\u001b[0m\u001b[0;34m\u001b[0m\u001b[0m\n\u001b[0m\u001b[1;32m     15\u001b[0m         \u001b[0mprint\u001b[0m\u001b[0;34m(\u001b[0m\u001b[0;34mf'--> Skipping {mfrac} due to protocol error'\u001b[0m\u001b[0;34m)\u001b[0m\u001b[0;34m\u001b[0m\u001b[0;34m\u001b[0m\u001b[0m\n\u001b[1;32m     16\u001b[0m         \u001b[0;32mcontinue\u001b[0m\u001b[0;34m\u001b[0m\u001b[0;34m\u001b[0m\u001b[0m\n",
      "\u001b[0;31mNameError\u001b[0m: name 'MixingException' is not defined"
     ]
    }
   ],
   "source": [
    "load_loc = '7A1'\n",
    "random.shuffle(phi_list)\n",
    "\n",
    "for mfrac in phi_list:\n",
    "    loc = target_locs.pop()\n",
    "    phi_D2O,phi_SDS,phi_salt = mfrac\n",
    "    target_solution.set_mass_fractions({'D2O':phi_D2O,'SDS':phi_SDS,'salt':phi_salt})\n",
    "        \n",
    "    print(f'--> Making protocol for sample {mfrac}')\n",
    "    deck.reset_targets()\n",
    "    deck.add_target(target_solution,loc)\n",
    "    try:\n",
    "        deck.make_protocol(volume_cutoff=0.03)\n",
    "    except (MixingException, RuntimeError):\n",
    "        print(f'--> Skipping {mfrac} due to protocol error')\n",
    "        continue\n",
    "    \n",
    "    print(f'--> Making and loading sample {mfrac}')\n",
    "    deck.init_remote_connection('10.42.0.30')\n",
    "    deck.send_protocol()\n",
    "    deck.load_sample(1000,loc,load_loc)\n",
    "    deck.client.wait() #wait for queue to empty\n",
    "      \n",
    "    print(f'--> Loading sample {mfrac} into flow-cell')\n",
    "    cell_client.login('CellClient')\n",
    "    cell_client.debug(state=False)\n",
    "    cell_client.enqueue(task_name='loadSample')\n",
    "    cell_client.wait()\n",
    "    \n",
    "    for config,count in sans_configs:\n",
    "        print(f'--> Asking NICE to measure sample {mfrac}')\n",
    "        nice_params['configuration']      = config + ' Scatt'\n",
    "        nice_params['filePurpose']        = f'SCATTERING'\n",
    "        nice_params['counter.timePreset'] = str(count)\n",
    "        nice_params['sample.description'] = f'D2O={mfrac[0]:4.3f} SDS={mfrac[1]:4.3f} NaCl={mfrac[2]:4.3f} {nice_params[\"configuration\"]}'\n",
    "        measure_sans(nice_client,nice_params)\n",
    "            \n",
    "        print(f'--> Asking NICE to measure transmission of {mfrac}')\n",
    "        nice_params['configuration']      = config + ' Trans'\n",
    "        nice_params['filePurpose']        = f'TRANSMISSION'\n",
    "        nice_params['counter.timePreset'] = '180'\n",
    "        nice_params['sample.description'] = f'D2O={mfrac[0]:4.3f} SDS={mfrac[1]:4.3f} NaCl={mfrac[2]:4.3f} {nice_params[\"configuration\"]}'\n",
    "        measure_sans(nice_client,nice_params)\n",
    "        \n",
    "    print(f'--> Waiting for NICE to measure {mfrac}')\n",
    "    time.sleep(60)\n",
    "    while str(nice_client.queue.queue_state) != 'IDLE':\n",
    "        time.sleep(5)\n",
    "        \n",
    "    print(f'--> Cleaning up sample {mfrac}')\n",
    "    cell_client.login('CellClient')\n",
    "    cell_client.debug(state=False)\n",
    "    cell_client.enqueue(task_name='rinseSyringe')\n",
    "    cell_client.enqueue(task_name='rinseCellFlood')\n",
    "    cell_client.enqueue(task_name='rinseCatch')\n",
    "    cell_client.enqueue(task_name='rinseSyringe')\n",
    "    cell_client.wait()\n",
    "    \n",
    "    print(f'--> All done for {mfrac}')"
   ]
  },
  {
   "cell_type": "code",
   "execution_count": null,
   "metadata": {},
   "outputs": [],
   "source": []
  },
  {
   "cell_type": "markdown",
   "metadata": {},
   "source": [
    "# Backup cleaning"
   ]
  },
  {
   "cell_type": "code",
   "execution_count": 20,
   "metadata": {},
   "outputs": [],
   "source": [
    "cell.rinseSyringe()\n",
    "cell.rinseCellFlood()\n",
    "cell.rinseCatch()\n",
    "cell.rinseSyringe()"
   ]
  },
  {
   "cell_type": "code",
   "execution_count": 28,
   "metadata": {},
   "outputs": [],
   "source": [
    "cell.rinseCatch()"
   ]
  },
  {
   "cell_type": "markdown",
   "metadata": {},
   "source": [
    "# Measure Empty and Blocked"
   ]
  },
  {
   "cell_type": "code",
   "execution_count": 28,
   "metadata": {},
   "outputs": [
    {
     "name": "stdout",
     "output_type": "stream",
     "text": [
      "runPoint {\"counter.countAgainst\"= \"TIME\", \"counter.timePreset\"= \"300\", \"configuration\"= \"5p2m 12A Scatt\", \"groupid\"= \"21\", \"filePurpose\"= \"SCATTERING\", \"intent\"= \"Sample\", \"sample.description\"= \"Empty Cell 5p2m 12A Scatt\", \"sample.thickness\"= \"1.0\"} -g 10 -p \"ROBOT\" -u \"NGB\"\n",
      "runPoint {\"counter.countAgainst\"= \"TIME\", \"counter.timePreset\"= \"180\", \"configuration\"= \"5p2m 12A Trans\", \"groupid\"= \"21\", \"filePurpose\"= \"TRANSMISSION\", \"intent\"= \"Sample\", \"sample.description\"= \"Empty Cell 5p2m 12A Trans\", \"sample.thickness\"= \"1.0\"} -g 10 -p \"ROBOT\" -u \"NGB\"\n",
      "runPoint {\"counter.countAgainst\"= \"TIME\", \"counter.timePreset\"= \"180\", \"configuration\"= \"5p2m 5A Trans\", \"groupid\"= \"21\", \"filePurpose\"= \"TRANSMISSION\", \"intent\"= \"Sample\", \"sample.description\"= \"Empty Cell 5p2m 5A Trans\", \"sample.thickness\"= \"1.0\"} -g 10 -p \"ROBOT\" -u \"NGB\"\n",
      "runPoint {\"counter.countAgainst\"= \"TIME\", \"counter.timePreset\"= \"300\", \"configuration\"= \"5p2m 5A Scatt\", \"groupid\"= \"21\", \"filePurpose\"= \"SCATTERING\", \"intent\"= \"Sample\", \"sample.description\"= \"Empty Cell 5p2m 5A Scatt\", \"sample.thickness\"= \"1.0\"} -g 10 -p \"ROBOT\" -u \"NGB\"\n",
      "runPoint {\"counter.countAgainst\"= \"TIME\", \"counter.timePreset\"= \"300\", \"configuration\"= \"1p15m 5A Offset Scatt\", \"groupid\"= \"21\", \"filePurpose\"= \"SCATTERING\", \"intent\"= \"Sample\", \"sample.description\"= \"Empty Cell 1p15m 5A Offset Scatt\", \"sample.thickness\"= \"1.0\"} -g 10 -p \"ROBOT\" -u \"NGB\"\n"
     ]
    }
   ],
   "source": [
    "nice_params['configuration'] = f'5p2m 12A Scatt'\n",
    "nice_params['filePurpose'] = f'SCATTERING'\n",
    "nice_params['counter.timePreset'] = '300'\n",
    "nice_params['sample.description'] = f'Empty Cell {nice_params[\"configuration\"]}'\n",
    "measure_sans(nice_client,nice_params)\n",
    "\n",
    "nice_params['configuration'] = f'5p2m 12A Trans'\n",
    "nice_params['filePurpose'] = f'TRANSMISSION'\n",
    "nice_params['counter.timePreset'] = '180'\n",
    "nice_params['sample.description'] = f'Empty Cell {nice_params[\"configuration\"]}'\n",
    "measure_sans(nice_client,nice_params)\n",
    "\n",
    "nice_params['configuration'] = f'5p2m 5A Trans'\n",
    "nice_params['filePurpose'] = f'TRANSMISSION'\n",
    "nice_params['counter.timePreset'] = '180'\n",
    "nice_params['sample.description'] = f'Empty Cell {nice_params[\"configuration\"]}'\n",
    "measure_sans(nice_client,nice_params)\n",
    "\n",
    "nice_params['configuration'] = f'5p2m 5A Scatt'\n",
    "nice_params['filePurpose'] = f'SCATTERING'\n",
    "nice_params['counter.timePreset'] = '300'\n",
    "nice_params['sample.description'] = f'Empty Cell {nice_params[\"configuration\"]}'\n",
    "measure_sans(nice_client,nice_params)\n",
    "\n",
    "nice_params['configuration'] = f'1p15m 5A Offset Scatt'\n",
    "nice_params['filePurpose'] = f'SCATTERING'\n",
    "nice_params['counter.timePreset'] = '300'\n",
    "nice_params['sample.description'] = f'Empty Cell {nice_params[\"configuration\"]}'\n",
    "measure_sans(nice_client,nice_params)\n",
    "\n"
   ]
  },
  {
   "cell_type": "code",
   "execution_count": 29,
   "metadata": {},
   "outputs": [
    {
     "name": "stdout",
     "output_type": "stream",
     "text": [
      "runPoint {\"counter.countAgainst\"= \"TIME\", \"counter.timePreset\"= \"180\", \"configuration\"= \"5p2m 12A Trans\", \"groupid\"= \"21\", \"filePurpose\"= \"TRANSMISSION\", \"intent\"= \"Sample\", \"sample.description\"= \"Open Beam 5p2m 12A Trans\", \"sample.thickness\"= \"1.0\"} -g 10 -p \"ROBOT\" -u \"NGB\"\n",
      "runPoint {\"counter.countAgainst\"= \"TIME\", \"counter.timePreset\"= \"180\", \"configuration\"= \"5p2m 5A Trans\", \"groupid\"= \"21\", \"filePurpose\"= \"TRANSMISSION\", \"intent\"= \"Sample\", \"sample.description\"= \"Open Beam 5p2m 5A Trans\", \"sample.thickness\"= \"1.0\"} -g 10 -p \"ROBOT\" -u \"NGB\"\n",
      "runPoint {\"counter.countAgainst\"= \"TIME\", \"counter.timePreset\"= \"180\", \"configuration\"= \"1p15m 1A Offset Trans\", \"groupid\"= \"21\", \"filePurpose\"= \"TRANSMISSION\", \"intent\"= \"Sample\", \"sample.description\"= \"Open Beam 1p15m 1A Offset Trans\", \"sample.thickness\"= \"1.0\"} -g 10 -p \"ROBOT\" -u \"NGB\"\n"
     ]
    }
   ],
   "source": [
    "nice_client.console('move chamberTranslation 0')\n",
    "\n",
    "nice_params['configuration'] = f'5p2m 12A Trans'\n",
    "nice_params['filePurpose'] = f'TRANSMISSION'\n",
    "nice_params['counter.timePreset'] = '180'\n",
    "nice_params['sample.description'] = f'Open Beam {nice_params[\"configuration\"]}'\n",
    "measure_sans(nice_client,nice_params)\n",
    "\n",
    "nice_params['configuration'] = f'5p2m 5A Trans'\n",
    "nice_params['filePurpose'] = f'TRANSMISSION'\n",
    "nice_params['counter.timePreset'] = '180'\n",
    "nice_params['sample.description'] = f'Open Beam {nice_params[\"configuration\"]}'\n",
    "measure_sans(nice_client,nice_params)\n",
    "\n",
    "\n",
    "nice_params['configuration'] = f'1p15m 1A Offset Trans'\n",
    "nice_params['filePurpose'] = f'TRANSMISSION'\n",
    "nice_params['counter.timePreset'] = '180'\n",
    "nice_params['sample.description'] = f'Open Beam {nice_params[\"configuration\"]}'\n",
    "measure_sans(nice_client,nice_params)\n",
    "\n",
    "nice_client.console('move chamberTranslation -34.9982')\n"
   ]
  },
  {
   "cell_type": "code",
   "execution_count": 33,
   "metadata": {},
   "outputs": [
    {
     "name": "stdout",
     "output_type": "stream",
     "text": [
      "runPoint {\"counter.countAgainst\"= \"TIME\", \"counter.timePreset\"= \"300\", \"configuration\"= \"1p15m 5A Offset Scatt\", \"groupid\"= \"21\", \"filePurpose\"= \"SCATTERING\", \"intent\"= \"Sample\", \"sample.description\"= \"Blocked Beam 1p15m 5A Offset Scatt\", \"sample.thickness\"= \"1.0\"} -g 10 -p \"ROBOT\" -u \"NGB\"\n"
     ]
    }
   ],
   "source": [
    "nice_params['configuration'] = f'1p15m 5A Offset Scatt'\n",
    "nice_params['filePurpose'] = f'SCATTERING'\n",
    "nice_params['counter.timePreset'] = '300'\n",
    "nice_params['sample.description'] = f'Blocked Beam {nice_params[\"configuration\"]}'\n",
    "measure_sans(nice_client,nice_params)"
   ]
  },
  {
   "cell_type": "code",
   "execution_count": null,
   "metadata": {},
   "outputs": [],
   "source": []
  }
 ],
 "metadata": {
  "kernelspec": {
   "display_name": "Python 3",
   "language": "python",
   "name": "python3"
  },
  "language_info": {
   "codemirror_mode": {
    "name": "ipython",
    "version": 3
   },
   "file_extension": ".py",
   "mimetype": "text/x-python",
   "name": "python",
   "nbconvert_exporter": "python",
   "pygments_lexer": "ipython3",
   "version": "3.7.4"
  }
 },
 "nbformat": 4,
 "nbformat_minor": 4
}
