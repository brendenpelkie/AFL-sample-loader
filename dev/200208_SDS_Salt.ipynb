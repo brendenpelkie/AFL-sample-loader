{
 "cells": [
  {
   "cell_type": "code",
   "execution_count": 1,
   "metadata": {},
   "outputs": [],
   "source": [
    "%load_ext autoreload\n",
    "%autoreload 2"
   ]
  },
  {
   "cell_type": "code",
   "execution_count": 2,
   "metadata": {},
   "outputs": [],
   "source": [
    "import sys\n",
    "sys.path.insert(0,'/home/nistoroboto/software/NistoRoboto/git/src/')"
   ]
  },
  {
   "cell_type": "code",
   "execution_count": 3,
   "metadata": {},
   "outputs": [],
   "source": [
    "import numpy as np \n",
    "import ipywidgets\n",
    "import matplotlib.pyplot as plt\n",
    "import requests\n",
    "import time\n",
    "import json\n",
    "import itertools \n",
    "import random"
   ]
  },
  {
   "cell_type": "markdown",
   "metadata": {},
   "source": [
    "# Initialize the OT2 Deck"
   ]
  },
  {
   "cell_type": "code",
   "execution_count": 4,
   "metadata": {},
   "outputs": [],
   "source": [
    "import NistoRoboto\n",
    "from NistoRoboto.prep.Mixture import Mixture\n",
    "from NistoRoboto.prep.Component import Component\n",
    "from NistoRoboto.prep.Deck import Deck"
   ]
  },
  {
   "cell_type": "code",
   "execution_count": 5,
   "metadata": {},
   "outputs": [],
   "source": [
    "D2O = Component('D2O',mass=100.0,density=1.11)\n",
    "salt = Component('salt',mass=1.0)\n",
    "SDS = Component('SDS',mass=1.0)\n",
    "MW_NaCl = 58.44 #g/mol"
   ]
  },
  {
   "cell_type": "code",
   "execution_count": 6,
   "metadata": {},
   "outputs": [],
   "source": [
    "stock_D2O = Mixture([D2O])\n",
    "\n",
    "stock_SDS = Mixture([SDS,D2O])\n",
    "stock_SDS['SDS'].mass = 11.1024\n",
    "\n",
    "stock_salt = Mixture([salt,D2O])\n",
    "stock_salt['salt'].mass = 2.670"
   ]
  },
  {
   "cell_type": "code",
   "execution_count": 7,
   "metadata": {},
   "outputs": [],
   "source": [
    "target_solution = Mixture([D2O,SDS,salt])\n",
    "target_solution.mass = 1.6"
   ]
  },
  {
   "cell_type": "code",
   "execution_count": 8,
   "metadata": {},
   "outputs": [],
   "source": [
    "phi_SDS_list = [0.01,0.02,0.03,0.04,0.05,0.06,0.07,0.08,0.09]\n",
    "phi_salt_list = [0.0,0.001,0.002,0.003,0.004,0.005]\n",
    "phi_list = []\n",
    "for phi_SDS in phi_SDS_list:\n",
    "    for phi_salt in phi_salt_list:\n",
    "        phi_D2O = 1.0-phi_SDS-phi_salt\n",
    "        phi_list.append((phi_D2O,phi_SDS,phi_salt))"
   ]
  },
  {
   "cell_type": "code",
   "execution_count": 9,
   "metadata": {},
   "outputs": [],
   "source": [
    "deck =  Deck()\n",
    "tipracks=[(10,'opentrons_96_tiprack_1000ul'),(11,'opentrons_96_tiprack_1000ul')]\n",
    "deck.add_pipette('p1000_single','left',tipracks=tipracks)\n",
    "\n",
    "tipracks=[(8,'opentrons_96_tiprack_300ul'),(9,'opentrons_96_tiprack_300ul')]\n",
    "deck.add_pipette('p300_single','right',tipracks=tipracks)"
   ]
  },
  {
   "cell_type": "code",
   "execution_count": 10,
   "metadata": {},
   "outputs": [],
   "source": [
    "deck.add_container('opentrons_24_aluminumblock_nest_1.5ml_snapcap',1)\n",
    "deck.add_container('opentrons_24_aluminumblock_nest_1.5ml_snapcap',2)\n",
    "deck.add_container('opentrons_24_aluminumblock_nest_1.5ml_snapcap',4)\n",
    "deck.add_container('opentrons_24_aluminumblock_nest_1.5ml_snapcap',5)\n",
    "deck.add_container('nist_2_100ml_poly_bottle',3)\n",
    "deck.add_container('nist_2_100ml_poly_bottle',6)\n",
    "deck.add_loader ('nist_1_10ml_syringeloader',7)"
   ]
  },
  {
   "cell_type": "code",
   "execution_count": 11,
   "metadata": {},
   "outputs": [],
   "source": [
    "deck.add_stock(stock_D2O,'3A1')\n",
    "deck.add_stock(stock_D2O,'3A2')\n",
    "deck.add_stock(stock_salt,'6A1')\n",
    "deck.add_stock(stock_SDS,'6A2')"
   ]
  },
  {
   "cell_type": "code",
   "execution_count": 12,
   "metadata": {
    "scrolled": true
   },
   "outputs": [
    {
     "name": "stdout",
     "output_type": "stream",
     "text": [
      "<PipetteAction Vol:257.597 3A1-->1A1>\n",
      "<PipetteAction Vol:257.597 3A2-->1A1>\n",
      "<PipetteAction Vol:269.933 6A1-->1A1>\n",
      "<PipetteAction Vol:584.242 6A2-->1A1>\n"
     ]
    }
   ],
   "source": [
    "target_solution = Mixture([D2O,SDS,salt])\n",
    "target_solution.mass = 1.6\n",
    "\n",
    "phi_D2O = 0.95\n",
    "phi_SDS = 0.045\n",
    "phi_salt = 0.005\n",
    "target_solution.set_mass_fractions({'D2O':phi_D2O,'SDS':phi_SDS,'salt':phi_salt})\n",
    "deck.reset_targets()\n",
    "deck.add_target(target_solution,'1A1')\n",
    "deck.make_protocol(volume_cutoff=0.03)\n",
    "for p in deck.protocol:\n",
    "    print(p)\n"
   ]
  },
  {
   "cell_type": "code",
   "execution_count": 13,
   "metadata": {},
   "outputs": [],
   "source": [
    "deck.make_script('align.py')"
   ]
  },
  {
   "cell_type": "code",
   "execution_count": 12,
   "metadata": {},
   "outputs": [],
   "source": [
    "deck.reset_stocks()\n",
    "deck.add_stock(stock_D2O,'3A1')\n",
    "deck.add_stock(stock_D2O,'3A2')\n",
    "deck.add_stock(stock_NaCl,'6A1')\n",
    "deck.add_stock(stock_SDS,'6A2')"
   ]
  },
  {
   "cell_type": "code",
   "execution_count": 13,
   "metadata": {},
   "outputs": [],
   "source": [
    "deck.init_remote_connection('10.42.0.30')\n",
    "deck.send_deck_config()"
   ]
  },
  {
   "cell_type": "markdown",
   "metadata": {},
   "source": [
    "# Intialize the Nice client"
   ]
  },
  {
   "cell_type": "code",
   "execution_count": 14,
   "metadata": {},
   "outputs": [],
   "source": [
    "import nice\n",
    "nice_client = nice.connect(host='NGBSANS.ncnr.nist.gov')\n",
    "import NiceLib"
   ]
  },
  {
   "cell_type": "code",
   "execution_count": 15,
   "metadata": {},
   "outputs": [],
   "source": [
    "def measure_sans(client,params,runGroup=10,prefix='ROBOT',user='NGB'):\n",
    "    params_str = json.dumps(params).replace(':','=')\n",
    "    cmd = f'runPoint {params_str} -g {runGroup} -p \\\"{prefix}\\\" -u \\\"{user}\\\"'\n",
    "    print(cmd)\n",
    "    client.console(cmd)"
   ]
  },
  {
   "cell_type": "markdown",
   "metadata": {},
   "source": [
    "## Initialize the Cell Client"
   ]
  },
  {
   "cell_type": "code",
   "execution_count": 16,
   "metadata": {},
   "outputs": [],
   "source": [
    "from NistoRoboto.DeviceServer.Client import Client\n",
    "cell_client = Client('localhost')\n",
    "cell_client.login('CellClient')"
   ]
  },
  {
   "cell_type": "markdown",
   "metadata": {},
   "source": [
    "# Run Measurement"
   ]
  },
  {
   "cell_type": "code",
   "execution_count": 19,
   "metadata": {},
   "outputs": [],
   "source": [
    "nice_params ={\n",
    "'counter.countAgainst':'TIME',\n",
    "'counter.timePreset':'300.0', \n",
    "'configuration':'1p15m 5A Offset Scatt',\n",
    "'groupid':'21', \n",
    "'filePurpose':'SCATTERING', \n",
    "'intent':'Sample', \n",
    "'sample.description':'Test', \n",
    "'sample.thickness':'1.0', \n",
    "    \n",
    "} "
   ]
  },
  {
   "cell_type": "code",
   "execution_count": 20,
   "metadata": {
    "scrolled": true
   },
   "outputs": [
    {
     "data": {
      "text/plain": [
       "['1A1',\n",
       " '1A2',\n",
       " '1A3',\n",
       " '1A4',\n",
       " '1A5',\n",
       " '1A6',\n",
       " '1B1',\n",
       " '1B2',\n",
       " '1B3',\n",
       " '1B4',\n",
       " '1B5',\n",
       " '1B6',\n",
       " '1C1',\n",
       " '1C2',\n",
       " '1C3',\n",
       " '1C4',\n",
       " '1C5',\n",
       " '1C6',\n",
       " '1D1',\n",
       " '1D2',\n",
       " '1D3',\n",
       " '1D4',\n",
       " '1D5',\n",
       " '1D6',\n",
       " '2A1',\n",
       " '2A2',\n",
       " '2A3',\n",
       " '2A4',\n",
       " '2A5',\n",
       " '2A6',\n",
       " '2B1',\n",
       " '2B2',\n",
       " '2B3',\n",
       " '2B4',\n",
       " '2B5',\n",
       " '2B6',\n",
       " '2C1',\n",
       " '2C2',\n",
       " '2C3',\n",
       " '2C4',\n",
       " '2C5',\n",
       " '2C6',\n",
       " '2D1',\n",
       " '2D2',\n",
       " '2D3',\n",
       " '2D4',\n",
       " '2D5',\n",
       " '2D6',\n",
       " '4A1',\n",
       " '4A2',\n",
       " '4A3',\n",
       " '4A4',\n",
       " '4A5',\n",
       " '4A6',\n",
       " '4B1',\n",
       " '4B2',\n",
       " '4B3',\n",
       " '4B4',\n",
       " '4B5',\n",
       " '4B6',\n",
       " '4C1',\n",
       " '4C2',\n",
       " '4C3',\n",
       " '4C4',\n",
       " '4C5',\n",
       " '4C6',\n",
       " '4D1',\n",
       " '4D2',\n",
       " '4D3',\n",
       " '4D4',\n",
       " '4D5',\n",
       " '4D6']"
      ]
     },
     "execution_count": 20,
     "metadata": {},
     "output_type": "execute_result"
    }
   ],
   "source": [
    "blocks = [1,2,4,5]\n",
    "cols = range(6)\n",
    "rows = ['A','B','C','D']\n",
    "target_locs = []\n",
    "for block in blocks:\n",
    "    for r in rows:\n",
    "        for c in cols:\n",
    "            target_locs.append(str(block)+r+str(c+1))\n",
    "        \n",
    "target_locs"
   ]
  },
  {
   "cell_type": "code",
   "execution_count": 21,
   "metadata": {},
   "outputs": [
    {
     "name": "stdout",
     "output_type": "stream",
     "text": [
      "--> Sending protocol to roboto for [0.14285714285714285, 0.7142857142857142, 0.14285714285714302]\n",
      "<PipetteAction Vol:102.960 3A1-->4D6>\n",
      "<PipetteAction Vol:102.960 3A2-->4D6>\n",
      "<PipetteAction Vol:205.920 6A1-->4D6>\n",
      "<PipetteAction Vol:1029.601 6A2-->4D6>\n",
      "--> Waiting for sample prep of [0.14285714285714285, 0.7142857142857142, 0.14285714285714302] to finish\n",
      "--> Loading sample [0.14285714285714285, 0.7142857142857142, 0.14285714285714302] into syringe loader\n",
      "--> Waiting for load to finish\n",
      "--> Loading sample [0.14285714285714285, 0.7142857142857142, 0.14285714285714302] into flow-cell\n",
      "--> Asking NICE to measure sample [0.14285714285714285, 0.7142857142857142, 0.14285714285714302]\n",
      "runPoint {\"counter.countAgainst\"= \"TIME\", \"counter.timePreset\"= \"300\", \"configuration\"= \"1p15m 5A Offset Scatt\", \"groupid\"= \"21\", \"filePurpose\"= \"SCATTERING\", \"intent\"= \"Sample\", \"sample.description\"= \"D2O=0.143 SDS=0.714 NaCl=0.143 1p15m 5A Offset Scatt\", \"sample.thickness\"= \"1.0\"} -g 10 -p \"ROBOT\" -u \"NGB\"\n",
      "--> Waiting for NICE to measure scattering of [0.14285714285714285, 0.7142857142857142, 0.14285714285714302]\n",
      "--> Asking NICE to measure transmission of [0.14285714285714285, 0.7142857142857142, 0.14285714285714302]\n",
      "runPoint {\"counter.countAgainst\"= \"TIME\", \"counter.timePreset\"= \"180\", \"configuration\"= \"1p15m 5A Offset Trans\", \"groupid\"= \"21\", \"filePurpose\"= \"TRANSMISSION\", \"intent\"= \"Sample\", \"sample.description\"= \"D2O=0.143 SDS=0.714 NaCl=0.143 1p15m 5A Offset Trans\", \"sample.thickness\"= \"1.0\"} -g 10 -p \"ROBOT\" -u \"NGB\"\n",
      "--> Waiting for NICE to measure transmission [0.14285714285714285, 0.7142857142857142, 0.14285714285714302]\n",
      "--> Cleaning up sample [0.14285714285714285, 0.7142857142857142, 0.14285714285714302]\n",
      "--> All done for [0.14285714285714285, 0.7142857142857142, 0.14285714285714302]\n",
      "--> Sending protocol to roboto for [0.2857142857142857, 0.14285714285714285, 0.5714285714285714]\n",
      "<PipetteAction Vol:205.920 3A1-->4D5>\n",
      "<PipetteAction Vol:205.920 3A2-->4D5>\n",
      "<PipetteAction Vol:823.681 6A1-->4D5>\n",
      "<PipetteAction Vol:205.920 6A2-->4D5>\n",
      "--> Waiting for sample prep of [0.2857142857142857, 0.14285714285714285, 0.5714285714285714] to finish\n"
     ]
    },
    {
     "ename": "ConnectionError",
     "evalue": "HTTPConnectionPool(host='10.42.0.30', port=5000): Max retries exceeded with url: /get_queue (Caused by NewConnectionError('<urllib3.connection.HTTPConnection object at 0x7fd3187e5150>: Failed to establish a new connection: [Errno 113] No route to host'))",
     "output_type": "error",
     "traceback": [
      "\u001b[0;31m---------------------------------------------------------------------------\u001b[0m",
      "\u001b[0;31mOSError\u001b[0m                                   Traceback (most recent call last)",
      "\u001b[0;32m/opt/anaconda3/lib/python3.7/site-packages/urllib3/connection.py\u001b[0m in \u001b[0;36m_new_conn\u001b[0;34m(self)\u001b[0m\n\u001b[1;32m    158\u001b[0m             conn = connection.create_connection(\n\u001b[0;32m--> 159\u001b[0;31m                 (self._dns_host, self.port), self.timeout, **extra_kw)\n\u001b[0m\u001b[1;32m    160\u001b[0m \u001b[0;34m\u001b[0m\u001b[0m\n",
      "\u001b[0;32m/opt/anaconda3/lib/python3.7/site-packages/urllib3/util/connection.py\u001b[0m in \u001b[0;36mcreate_connection\u001b[0;34m(address, timeout, source_address, socket_options)\u001b[0m\n\u001b[1;32m     79\u001b[0m     \u001b[0;32mif\u001b[0m \u001b[0merr\u001b[0m \u001b[0;32mis\u001b[0m \u001b[0;32mnot\u001b[0m \u001b[0;32mNone\u001b[0m\u001b[0;34m:\u001b[0m\u001b[0;34m\u001b[0m\u001b[0;34m\u001b[0m\u001b[0m\n\u001b[0;32m---> 80\u001b[0;31m         \u001b[0;32mraise\u001b[0m \u001b[0merr\u001b[0m\u001b[0;34m\u001b[0m\u001b[0;34m\u001b[0m\u001b[0m\n\u001b[0m\u001b[1;32m     81\u001b[0m \u001b[0;34m\u001b[0m\u001b[0m\n",
      "\u001b[0;32m/opt/anaconda3/lib/python3.7/site-packages/urllib3/util/connection.py\u001b[0m in \u001b[0;36mcreate_connection\u001b[0;34m(address, timeout, source_address, socket_options)\u001b[0m\n\u001b[1;32m     69\u001b[0m                 \u001b[0msock\u001b[0m\u001b[0;34m.\u001b[0m\u001b[0mbind\u001b[0m\u001b[0;34m(\u001b[0m\u001b[0msource_address\u001b[0m\u001b[0;34m)\u001b[0m\u001b[0;34m\u001b[0m\u001b[0;34m\u001b[0m\u001b[0m\n\u001b[0;32m---> 70\u001b[0;31m             \u001b[0msock\u001b[0m\u001b[0;34m.\u001b[0m\u001b[0mconnect\u001b[0m\u001b[0;34m(\u001b[0m\u001b[0msa\u001b[0m\u001b[0;34m)\u001b[0m\u001b[0;34m\u001b[0m\u001b[0;34m\u001b[0m\u001b[0m\n\u001b[0m\u001b[1;32m     71\u001b[0m             \u001b[0;32mreturn\u001b[0m \u001b[0msock\u001b[0m\u001b[0;34m\u001b[0m\u001b[0;34m\u001b[0m\u001b[0m\n",
      "\u001b[0;31mOSError\u001b[0m: [Errno 113] No route to host",
      "\nDuring handling of the above exception, another exception occurred:\n",
      "\u001b[0;31mNewConnectionError\u001b[0m                        Traceback (most recent call last)",
      "\u001b[0;32m/opt/anaconda3/lib/python3.7/site-packages/urllib3/connectionpool.py\u001b[0m in \u001b[0;36murlopen\u001b[0;34m(self, method, url, body, headers, retries, redirect, assert_same_host, timeout, pool_timeout, release_conn, chunked, body_pos, **response_kw)\u001b[0m\n\u001b[1;32m    599\u001b[0m                                                   \u001b[0mbody\u001b[0m\u001b[0;34m=\u001b[0m\u001b[0mbody\u001b[0m\u001b[0;34m,\u001b[0m \u001b[0mheaders\u001b[0m\u001b[0;34m=\u001b[0m\u001b[0mheaders\u001b[0m\u001b[0;34m,\u001b[0m\u001b[0;34m\u001b[0m\u001b[0;34m\u001b[0m\u001b[0m\n\u001b[0;32m--> 600\u001b[0;31m                                                   chunked=chunked)\n\u001b[0m\u001b[1;32m    601\u001b[0m \u001b[0;34m\u001b[0m\u001b[0m\n",
      "\u001b[0;32m/opt/anaconda3/lib/python3.7/site-packages/urllib3/connectionpool.py\u001b[0m in \u001b[0;36m_make_request\u001b[0;34m(self, conn, method, url, timeout, chunked, **httplib_request_kw)\u001b[0m\n\u001b[1;32m    353\u001b[0m         \u001b[0;32melse\u001b[0m\u001b[0;34m:\u001b[0m\u001b[0;34m\u001b[0m\u001b[0;34m\u001b[0m\u001b[0m\n\u001b[0;32m--> 354\u001b[0;31m             \u001b[0mconn\u001b[0m\u001b[0;34m.\u001b[0m\u001b[0mrequest\u001b[0m\u001b[0;34m(\u001b[0m\u001b[0mmethod\u001b[0m\u001b[0;34m,\u001b[0m \u001b[0murl\u001b[0m\u001b[0;34m,\u001b[0m \u001b[0;34m**\u001b[0m\u001b[0mhttplib_request_kw\u001b[0m\u001b[0;34m)\u001b[0m\u001b[0;34m\u001b[0m\u001b[0;34m\u001b[0m\u001b[0m\n\u001b[0m\u001b[1;32m    355\u001b[0m \u001b[0;34m\u001b[0m\u001b[0m\n",
      "\u001b[0;32m/opt/anaconda3/lib/python3.7/http/client.py\u001b[0m in \u001b[0;36mrequest\u001b[0;34m(self, method, url, body, headers, encode_chunked)\u001b[0m\n\u001b[1;32m   1243\u001b[0m         \u001b[0;34m\"\"\"Send a complete request to the server.\"\"\"\u001b[0m\u001b[0;34m\u001b[0m\u001b[0;34m\u001b[0m\u001b[0m\n\u001b[0;32m-> 1244\u001b[0;31m         \u001b[0mself\u001b[0m\u001b[0;34m.\u001b[0m\u001b[0m_send_request\u001b[0m\u001b[0;34m(\u001b[0m\u001b[0mmethod\u001b[0m\u001b[0;34m,\u001b[0m \u001b[0murl\u001b[0m\u001b[0;34m,\u001b[0m \u001b[0mbody\u001b[0m\u001b[0;34m,\u001b[0m \u001b[0mheaders\u001b[0m\u001b[0;34m,\u001b[0m \u001b[0mencode_chunked\u001b[0m\u001b[0;34m)\u001b[0m\u001b[0;34m\u001b[0m\u001b[0;34m\u001b[0m\u001b[0m\n\u001b[0m\u001b[1;32m   1245\u001b[0m \u001b[0;34m\u001b[0m\u001b[0m\n",
      "\u001b[0;32m/opt/anaconda3/lib/python3.7/http/client.py\u001b[0m in \u001b[0;36m_send_request\u001b[0;34m(self, method, url, body, headers, encode_chunked)\u001b[0m\n\u001b[1;32m   1289\u001b[0m             \u001b[0mbody\u001b[0m \u001b[0;34m=\u001b[0m \u001b[0m_encode\u001b[0m\u001b[0;34m(\u001b[0m\u001b[0mbody\u001b[0m\u001b[0;34m,\u001b[0m \u001b[0;34m'body'\u001b[0m\u001b[0;34m)\u001b[0m\u001b[0;34m\u001b[0m\u001b[0;34m\u001b[0m\u001b[0m\n\u001b[0;32m-> 1290\u001b[0;31m         \u001b[0mself\u001b[0m\u001b[0;34m.\u001b[0m\u001b[0mendheaders\u001b[0m\u001b[0;34m(\u001b[0m\u001b[0mbody\u001b[0m\u001b[0;34m,\u001b[0m \u001b[0mencode_chunked\u001b[0m\u001b[0;34m=\u001b[0m\u001b[0mencode_chunked\u001b[0m\u001b[0;34m)\u001b[0m\u001b[0;34m\u001b[0m\u001b[0;34m\u001b[0m\u001b[0m\n\u001b[0m\u001b[1;32m   1291\u001b[0m \u001b[0;34m\u001b[0m\u001b[0m\n",
      "\u001b[0;32m/opt/anaconda3/lib/python3.7/http/client.py\u001b[0m in \u001b[0;36mendheaders\u001b[0;34m(self, message_body, encode_chunked)\u001b[0m\n\u001b[1;32m   1238\u001b[0m             \u001b[0;32mraise\u001b[0m \u001b[0mCannotSendHeader\u001b[0m\u001b[0;34m(\u001b[0m\u001b[0;34m)\u001b[0m\u001b[0;34m\u001b[0m\u001b[0;34m\u001b[0m\u001b[0m\n\u001b[0;32m-> 1239\u001b[0;31m         \u001b[0mself\u001b[0m\u001b[0;34m.\u001b[0m\u001b[0m_send_output\u001b[0m\u001b[0;34m(\u001b[0m\u001b[0mmessage_body\u001b[0m\u001b[0;34m,\u001b[0m \u001b[0mencode_chunked\u001b[0m\u001b[0;34m=\u001b[0m\u001b[0mencode_chunked\u001b[0m\u001b[0;34m)\u001b[0m\u001b[0;34m\u001b[0m\u001b[0;34m\u001b[0m\u001b[0m\n\u001b[0m\u001b[1;32m   1240\u001b[0m \u001b[0;34m\u001b[0m\u001b[0m\n",
      "\u001b[0;32m/opt/anaconda3/lib/python3.7/http/client.py\u001b[0m in \u001b[0;36m_send_output\u001b[0;34m(self, message_body, encode_chunked)\u001b[0m\n\u001b[1;32m   1025\u001b[0m         \u001b[0;32mdel\u001b[0m \u001b[0mself\u001b[0m\u001b[0;34m.\u001b[0m\u001b[0m_buffer\u001b[0m\u001b[0;34m[\u001b[0m\u001b[0;34m:\u001b[0m\u001b[0;34m]\u001b[0m\u001b[0;34m\u001b[0m\u001b[0;34m\u001b[0m\u001b[0m\n\u001b[0;32m-> 1026\u001b[0;31m         \u001b[0mself\u001b[0m\u001b[0;34m.\u001b[0m\u001b[0msend\u001b[0m\u001b[0;34m(\u001b[0m\u001b[0mmsg\u001b[0m\u001b[0;34m)\u001b[0m\u001b[0;34m\u001b[0m\u001b[0;34m\u001b[0m\u001b[0m\n\u001b[0m\u001b[1;32m   1027\u001b[0m \u001b[0;34m\u001b[0m\u001b[0m\n",
      "\u001b[0;32m/opt/anaconda3/lib/python3.7/http/client.py\u001b[0m in \u001b[0;36msend\u001b[0;34m(self, data)\u001b[0m\n\u001b[1;32m    965\u001b[0m             \u001b[0;32mif\u001b[0m \u001b[0mself\u001b[0m\u001b[0;34m.\u001b[0m\u001b[0mauto_open\u001b[0m\u001b[0;34m:\u001b[0m\u001b[0;34m\u001b[0m\u001b[0;34m\u001b[0m\u001b[0m\n\u001b[0;32m--> 966\u001b[0;31m                 \u001b[0mself\u001b[0m\u001b[0;34m.\u001b[0m\u001b[0mconnect\u001b[0m\u001b[0;34m(\u001b[0m\u001b[0;34m)\u001b[0m\u001b[0;34m\u001b[0m\u001b[0;34m\u001b[0m\u001b[0m\n\u001b[0m\u001b[1;32m    967\u001b[0m             \u001b[0;32melse\u001b[0m\u001b[0;34m:\u001b[0m\u001b[0;34m\u001b[0m\u001b[0;34m\u001b[0m\u001b[0m\n",
      "\u001b[0;32m/opt/anaconda3/lib/python3.7/site-packages/urllib3/connection.py\u001b[0m in \u001b[0;36mconnect\u001b[0;34m(self)\u001b[0m\n\u001b[1;32m    180\u001b[0m     \u001b[0;32mdef\u001b[0m \u001b[0mconnect\u001b[0m\u001b[0;34m(\u001b[0m\u001b[0mself\u001b[0m\u001b[0;34m)\u001b[0m\u001b[0;34m:\u001b[0m\u001b[0;34m\u001b[0m\u001b[0;34m\u001b[0m\u001b[0m\n\u001b[0;32m--> 181\u001b[0;31m         \u001b[0mconn\u001b[0m \u001b[0;34m=\u001b[0m \u001b[0mself\u001b[0m\u001b[0;34m.\u001b[0m\u001b[0m_new_conn\u001b[0m\u001b[0;34m(\u001b[0m\u001b[0;34m)\u001b[0m\u001b[0;34m\u001b[0m\u001b[0;34m\u001b[0m\u001b[0m\n\u001b[0m\u001b[1;32m    182\u001b[0m         \u001b[0mself\u001b[0m\u001b[0;34m.\u001b[0m\u001b[0m_prepare_conn\u001b[0m\u001b[0;34m(\u001b[0m\u001b[0mconn\u001b[0m\u001b[0;34m)\u001b[0m\u001b[0;34m\u001b[0m\u001b[0;34m\u001b[0m\u001b[0m\n",
      "\u001b[0;32m/opt/anaconda3/lib/python3.7/site-packages/urllib3/connection.py\u001b[0m in \u001b[0;36m_new_conn\u001b[0;34m(self)\u001b[0m\n\u001b[1;32m    167\u001b[0m             raise NewConnectionError(\n\u001b[0;32m--> 168\u001b[0;31m                 self, \"Failed to establish a new connection: %s\" % e)\n\u001b[0m\u001b[1;32m    169\u001b[0m \u001b[0;34m\u001b[0m\u001b[0m\n",
      "\u001b[0;31mNewConnectionError\u001b[0m: <urllib3.connection.HTTPConnection object at 0x7fd3187e5150>: Failed to establish a new connection: [Errno 113] No route to host",
      "\nDuring handling of the above exception, another exception occurred:\n",
      "\u001b[0;31mMaxRetryError\u001b[0m                             Traceback (most recent call last)",
      "\u001b[0;32m/opt/anaconda3/lib/python3.7/site-packages/requests/adapters.py\u001b[0m in \u001b[0;36msend\u001b[0;34m(self, request, stream, timeout, verify, cert, proxies)\u001b[0m\n\u001b[1;32m    448\u001b[0m                     \u001b[0mretries\u001b[0m\u001b[0;34m=\u001b[0m\u001b[0mself\u001b[0m\u001b[0;34m.\u001b[0m\u001b[0mmax_retries\u001b[0m\u001b[0;34m,\u001b[0m\u001b[0;34m\u001b[0m\u001b[0;34m\u001b[0m\u001b[0m\n\u001b[0;32m--> 449\u001b[0;31m                     \u001b[0mtimeout\u001b[0m\u001b[0;34m=\u001b[0m\u001b[0mtimeout\u001b[0m\u001b[0;34m\u001b[0m\u001b[0;34m\u001b[0m\u001b[0m\n\u001b[0m\u001b[1;32m    450\u001b[0m                 )\n",
      "\u001b[0;32m/opt/anaconda3/lib/python3.7/site-packages/urllib3/connectionpool.py\u001b[0m in \u001b[0;36murlopen\u001b[0;34m(self, method, url, body, headers, retries, redirect, assert_same_host, timeout, pool_timeout, release_conn, chunked, body_pos, **response_kw)\u001b[0m\n\u001b[1;32m    637\u001b[0m             retries = retries.increment(method, url, error=e, _pool=self,\n\u001b[0;32m--> 638\u001b[0;31m                                         _stacktrace=sys.exc_info()[2])\n\u001b[0m\u001b[1;32m    639\u001b[0m             \u001b[0mretries\u001b[0m\u001b[0;34m.\u001b[0m\u001b[0msleep\u001b[0m\u001b[0;34m(\u001b[0m\u001b[0;34m)\u001b[0m\u001b[0;34m\u001b[0m\u001b[0;34m\u001b[0m\u001b[0m\n",
      "\u001b[0;32m/opt/anaconda3/lib/python3.7/site-packages/urllib3/util/retry.py\u001b[0m in \u001b[0;36mincrement\u001b[0;34m(self, method, url, response, error, _pool, _stacktrace)\u001b[0m\n\u001b[1;32m    398\u001b[0m         \u001b[0;32mif\u001b[0m \u001b[0mnew_retry\u001b[0m\u001b[0;34m.\u001b[0m\u001b[0mis_exhausted\u001b[0m\u001b[0;34m(\u001b[0m\u001b[0;34m)\u001b[0m\u001b[0;34m:\u001b[0m\u001b[0;34m\u001b[0m\u001b[0;34m\u001b[0m\u001b[0m\n\u001b[0;32m--> 399\u001b[0;31m             \u001b[0;32mraise\u001b[0m \u001b[0mMaxRetryError\u001b[0m\u001b[0;34m(\u001b[0m\u001b[0m_pool\u001b[0m\u001b[0;34m,\u001b[0m \u001b[0murl\u001b[0m\u001b[0;34m,\u001b[0m \u001b[0merror\u001b[0m \u001b[0;32mor\u001b[0m \u001b[0mResponseError\u001b[0m\u001b[0;34m(\u001b[0m\u001b[0mcause\u001b[0m\u001b[0;34m)\u001b[0m\u001b[0;34m)\u001b[0m\u001b[0;34m\u001b[0m\u001b[0;34m\u001b[0m\u001b[0m\n\u001b[0m\u001b[1;32m    400\u001b[0m \u001b[0;34m\u001b[0m\u001b[0m\n",
      "\u001b[0;31mMaxRetryError\u001b[0m: HTTPConnectionPool(host='10.42.0.30', port=5000): Max retries exceeded with url: /get_queue (Caused by NewConnectionError('<urllib3.connection.HTTPConnection object at 0x7fd3187e5150>: Failed to establish a new connection: [Errno 113] No route to host'))",
      "\nDuring handling of the above exception, another exception occurred:\n",
      "\u001b[0;31mConnectionError\u001b[0m                           Traceback (most recent call last)",
      "\u001b[0;32m<ipython-input-21-7a080dfde77c>\u001b[0m in \u001b[0;36m<module>\u001b[0;34m\u001b[0m\n\u001b[1;32m     25\u001b[0m     \u001b[0;32mwhile\u001b[0m \u001b[0mlen\u001b[0m\u001b[0;34m(\u001b[0m\u001b[0mqueue\u001b[0m\u001b[0;34m)\u001b[0m\u001b[0;34m>\u001b[0m\u001b[0;36m0\u001b[0m\u001b[0;34m:\u001b[0m\u001b[0;34m\u001b[0m\u001b[0;34m\u001b[0m\u001b[0m\n\u001b[1;32m     26\u001b[0m         \u001b[0mtime\u001b[0m\u001b[0;34m.\u001b[0m\u001b[0msleep\u001b[0m\u001b[0;34m(\u001b[0m\u001b[0;36m10\u001b[0m\u001b[0;34m)\u001b[0m\u001b[0;34m\u001b[0m\u001b[0;34m\u001b[0m\u001b[0m\n\u001b[0;32m---> 27\u001b[0;31m         \u001b[0mqueue\u001b[0m \u001b[0;34m=\u001b[0m \u001b[0mrequests\u001b[0m\u001b[0;34m.\u001b[0m\u001b[0mget\u001b[0m\u001b[0;34m(\u001b[0m\u001b[0;34m'http://10.42.0.30:5000/get_queue'\u001b[0m\u001b[0;34m)\u001b[0m\u001b[0;34m.\u001b[0m\u001b[0mjson\u001b[0m\u001b[0;34m(\u001b[0m\u001b[0;34m)\u001b[0m\u001b[0;34m\u001b[0m\u001b[0;34m\u001b[0m\u001b[0m\n\u001b[0m\u001b[1;32m     28\u001b[0m     \u001b[0mtime\u001b[0m\u001b[0;34m.\u001b[0m\u001b[0msleep\u001b[0m\u001b[0;34m(\u001b[0m\u001b[0;36m60\u001b[0m\u001b[0;34m)\u001b[0m\u001b[0;34m\u001b[0m\u001b[0;34m\u001b[0m\u001b[0m\n\u001b[1;32m     29\u001b[0m \u001b[0;34m\u001b[0m\u001b[0m\n",
      "\u001b[0;32m/opt/anaconda3/lib/python3.7/site-packages/requests/api.py\u001b[0m in \u001b[0;36mget\u001b[0;34m(url, params, **kwargs)\u001b[0m\n\u001b[1;32m     73\u001b[0m \u001b[0;34m\u001b[0m\u001b[0m\n\u001b[1;32m     74\u001b[0m     \u001b[0mkwargs\u001b[0m\u001b[0;34m.\u001b[0m\u001b[0msetdefault\u001b[0m\u001b[0;34m(\u001b[0m\u001b[0;34m'allow_redirects'\u001b[0m\u001b[0;34m,\u001b[0m \u001b[0;32mTrue\u001b[0m\u001b[0;34m)\u001b[0m\u001b[0;34m\u001b[0m\u001b[0;34m\u001b[0m\u001b[0m\n\u001b[0;32m---> 75\u001b[0;31m     \u001b[0;32mreturn\u001b[0m \u001b[0mrequest\u001b[0m\u001b[0;34m(\u001b[0m\u001b[0;34m'get'\u001b[0m\u001b[0;34m,\u001b[0m \u001b[0murl\u001b[0m\u001b[0;34m,\u001b[0m \u001b[0mparams\u001b[0m\u001b[0;34m=\u001b[0m\u001b[0mparams\u001b[0m\u001b[0;34m,\u001b[0m \u001b[0;34m**\u001b[0m\u001b[0mkwargs\u001b[0m\u001b[0;34m)\u001b[0m\u001b[0;34m\u001b[0m\u001b[0;34m\u001b[0m\u001b[0m\n\u001b[0m\u001b[1;32m     76\u001b[0m \u001b[0;34m\u001b[0m\u001b[0m\n\u001b[1;32m     77\u001b[0m \u001b[0;34m\u001b[0m\u001b[0m\n",
      "\u001b[0;32m/opt/anaconda3/lib/python3.7/site-packages/requests/api.py\u001b[0m in \u001b[0;36mrequest\u001b[0;34m(method, url, **kwargs)\u001b[0m\n\u001b[1;32m     58\u001b[0m     \u001b[0;31m# cases, and look like a memory leak in others.\u001b[0m\u001b[0;34m\u001b[0m\u001b[0;34m\u001b[0m\u001b[0;34m\u001b[0m\u001b[0m\n\u001b[1;32m     59\u001b[0m     \u001b[0;32mwith\u001b[0m \u001b[0msessions\u001b[0m\u001b[0;34m.\u001b[0m\u001b[0mSession\u001b[0m\u001b[0;34m(\u001b[0m\u001b[0;34m)\u001b[0m \u001b[0;32mas\u001b[0m \u001b[0msession\u001b[0m\u001b[0;34m:\u001b[0m\u001b[0;34m\u001b[0m\u001b[0;34m\u001b[0m\u001b[0m\n\u001b[0;32m---> 60\u001b[0;31m         \u001b[0;32mreturn\u001b[0m \u001b[0msession\u001b[0m\u001b[0;34m.\u001b[0m\u001b[0mrequest\u001b[0m\u001b[0;34m(\u001b[0m\u001b[0mmethod\u001b[0m\u001b[0;34m=\u001b[0m\u001b[0mmethod\u001b[0m\u001b[0;34m,\u001b[0m \u001b[0murl\u001b[0m\u001b[0;34m=\u001b[0m\u001b[0murl\u001b[0m\u001b[0;34m,\u001b[0m \u001b[0;34m**\u001b[0m\u001b[0mkwargs\u001b[0m\u001b[0;34m)\u001b[0m\u001b[0;34m\u001b[0m\u001b[0;34m\u001b[0m\u001b[0m\n\u001b[0m\u001b[1;32m     61\u001b[0m \u001b[0;34m\u001b[0m\u001b[0m\n\u001b[1;32m     62\u001b[0m \u001b[0;34m\u001b[0m\u001b[0m\n",
      "\u001b[0;32m/opt/anaconda3/lib/python3.7/site-packages/requests/sessions.py\u001b[0m in \u001b[0;36mrequest\u001b[0;34m(self, method, url, params, data, headers, cookies, files, auth, timeout, allow_redirects, proxies, hooks, stream, verify, cert, json)\u001b[0m\n\u001b[1;32m    531\u001b[0m         }\n\u001b[1;32m    532\u001b[0m         \u001b[0msend_kwargs\u001b[0m\u001b[0;34m.\u001b[0m\u001b[0mupdate\u001b[0m\u001b[0;34m(\u001b[0m\u001b[0msettings\u001b[0m\u001b[0;34m)\u001b[0m\u001b[0;34m\u001b[0m\u001b[0;34m\u001b[0m\u001b[0m\n\u001b[0;32m--> 533\u001b[0;31m         \u001b[0mresp\u001b[0m \u001b[0;34m=\u001b[0m \u001b[0mself\u001b[0m\u001b[0;34m.\u001b[0m\u001b[0msend\u001b[0m\u001b[0;34m(\u001b[0m\u001b[0mprep\u001b[0m\u001b[0;34m,\u001b[0m \u001b[0;34m**\u001b[0m\u001b[0msend_kwargs\u001b[0m\u001b[0;34m)\u001b[0m\u001b[0;34m\u001b[0m\u001b[0;34m\u001b[0m\u001b[0m\n\u001b[0m\u001b[1;32m    534\u001b[0m \u001b[0;34m\u001b[0m\u001b[0m\n\u001b[1;32m    535\u001b[0m         \u001b[0;32mreturn\u001b[0m \u001b[0mresp\u001b[0m\u001b[0;34m\u001b[0m\u001b[0;34m\u001b[0m\u001b[0m\n",
      "\u001b[0;32m/opt/anaconda3/lib/python3.7/site-packages/requests/sessions.py\u001b[0m in \u001b[0;36msend\u001b[0;34m(self, request, **kwargs)\u001b[0m\n\u001b[1;32m    644\u001b[0m \u001b[0;34m\u001b[0m\u001b[0m\n\u001b[1;32m    645\u001b[0m         \u001b[0;31m# Send the request\u001b[0m\u001b[0;34m\u001b[0m\u001b[0;34m\u001b[0m\u001b[0;34m\u001b[0m\u001b[0m\n\u001b[0;32m--> 646\u001b[0;31m         \u001b[0mr\u001b[0m \u001b[0;34m=\u001b[0m \u001b[0madapter\u001b[0m\u001b[0;34m.\u001b[0m\u001b[0msend\u001b[0m\u001b[0;34m(\u001b[0m\u001b[0mrequest\u001b[0m\u001b[0;34m,\u001b[0m \u001b[0;34m**\u001b[0m\u001b[0mkwargs\u001b[0m\u001b[0;34m)\u001b[0m\u001b[0;34m\u001b[0m\u001b[0;34m\u001b[0m\u001b[0m\n\u001b[0m\u001b[1;32m    647\u001b[0m \u001b[0;34m\u001b[0m\u001b[0m\n\u001b[1;32m    648\u001b[0m         \u001b[0;31m# Total elapsed time of the request (approximately)\u001b[0m\u001b[0;34m\u001b[0m\u001b[0;34m\u001b[0m\u001b[0;34m\u001b[0m\u001b[0m\n",
      "\u001b[0;32m/opt/anaconda3/lib/python3.7/site-packages/requests/adapters.py\u001b[0m in \u001b[0;36msend\u001b[0;34m(self, request, stream, timeout, verify, cert, proxies)\u001b[0m\n\u001b[1;32m    514\u001b[0m                 \u001b[0;32mraise\u001b[0m \u001b[0mSSLError\u001b[0m\u001b[0;34m(\u001b[0m\u001b[0me\u001b[0m\u001b[0;34m,\u001b[0m \u001b[0mrequest\u001b[0m\u001b[0;34m=\u001b[0m\u001b[0mrequest\u001b[0m\u001b[0;34m)\u001b[0m\u001b[0;34m\u001b[0m\u001b[0;34m\u001b[0m\u001b[0m\n\u001b[1;32m    515\u001b[0m \u001b[0;34m\u001b[0m\u001b[0m\n\u001b[0;32m--> 516\u001b[0;31m             \u001b[0;32mraise\u001b[0m \u001b[0mConnectionError\u001b[0m\u001b[0;34m(\u001b[0m\u001b[0me\u001b[0m\u001b[0;34m,\u001b[0m \u001b[0mrequest\u001b[0m\u001b[0;34m=\u001b[0m\u001b[0mrequest\u001b[0m\u001b[0;34m)\u001b[0m\u001b[0;34m\u001b[0m\u001b[0;34m\u001b[0m\u001b[0m\n\u001b[0m\u001b[1;32m    517\u001b[0m \u001b[0;34m\u001b[0m\u001b[0m\n\u001b[1;32m    518\u001b[0m         \u001b[0;32mexcept\u001b[0m \u001b[0mClosedPoolError\u001b[0m \u001b[0;32mas\u001b[0m \u001b[0me\u001b[0m\u001b[0;34m:\u001b[0m\u001b[0;34m\u001b[0m\u001b[0;34m\u001b[0m\u001b[0m\n",
      "\u001b[0;31mConnectionError\u001b[0m: HTTPConnectionPool(host='10.42.0.30', port=5000): Max retries exceeded with url: /get_queue (Caused by NewConnectionError('<urllib3.connection.HTTPConnection object at 0x7fd3187e5150>: Failed to establish a new connection: [Errno 113] No route to host'))"
     ]
    }
   ],
   "source": [
    "load_loc = '7A1'\n",
    "random.shuffle(phi_list)\n",
    "\n",
    "for mfrac in phi_list:\n",
    "    loc = target_locs.pop()\n",
    "    phi_D2O,phi_SDS,phi_salt = mfrac\n",
    "    target_solution.set_mass_fractions({'D2O':phi_D2O,'SDS':phi_SDS,'salt':phi_salt})\n",
    "        \n",
    "    deck.reset_targets()\n",
    "    deck.add_target(target_solution,loc)\n",
    "    try:\n",
    "        deck.make_protocol(volume_cutoff=0.03)\n",
    "    except (MixingException, RuntimeError):\n",
    "        print(f'--> Skipping {mfrac} due to protocol error')\n",
    "        continue\n",
    "    \n",
    "    deck.init_remote_connection('10.42.0.30')\n",
    "    deck.send_deck_config()\n",
    "    deck.send_protocol()\n",
    "    deck.load_sample(1000,loc,load_loc)\n",
    "    deck.client.wait() #wait for queue to empty\n",
    "      \n",
    "    print(f'--> Loading sample {mfrac} into flow-cell')\n",
    "    cell_client.login('CellClient')\n",
    "    cell_client.enqueue(task_name='loadSample')\n",
    "    cell_client.wait()\n",
    "    \n",
    "    print(f'--> Asking NICE to measure sample {mfrac}')\n",
    "    nice_params['configuration']      = f'1p15m 5A Offset Scatt'\n",
    "    nice_params['filePurpose']        = f'SCATTERING'\n",
    "    nice_params['counter.timePreset'] = '300'\n",
    "    nice_params['sample.description'] = f'D2O={mfrac[0]:4.3f} SDS={mfrac[1]:4.3f} NaCl={mfrac[2]:4.3f} {nice_params[\"configuration\"]}'\n",
    "    measure_sans(nice_client,nice_params)\n",
    "    print(f'--> Waiting for NICE to measure scattering of {mfrac}')\n",
    "    while str(nice_client.queue.queue_state) != 'IDLE':\n",
    "        time.sleep(5)\n",
    "        \n",
    "    print(f'--> Asking NICE to measure transmission of {mfrac}')\n",
    "    nice_params['configuration']      = f'1p15m 5A Offset Trans'\n",
    "    nice_params['filePurpose']        = f'TRANSMISSION'\n",
    "    nice_params['counter.timePreset'] = '180'\n",
    "    nice_params['sample.description'] = f'D2O={mfrac[0]:4.3f} SDS={mfrac[1]:4.3f} NaCl={mfrac[2]:4.3f} {nice_params[\"configuration\"]}'\n",
    "    measure_sans(nice_client,nice_params)\n",
    "    print(f'--> Waiting for NICE to measure transmission {mfrac}')\n",
    "    while str(nice_client.queue.queue_state) != 'IDLE':\n",
    "        time.sleep()\n",
    "        \n",
    "    print(f'--> Cleaning up sample {mfrac}')\n",
    "    cell_client.login('CellClient')\n",
    "    cell_client.rinseSyringe()\n",
    "    cell_client.rinseCellFlood()\n",
    "    cell_client.rinseCatch()\n",
    "    cell_client.rinseSyringe()\n",
    "    \n",
    "    print(f'--> All done for {mfrac}')\n",
    "   "
   ]
  },
  {
   "cell_type": "code",
   "execution_count": null,
   "metadata": {},
   "outputs": [],
   "source": []
  },
  {
   "cell_type": "markdown",
   "metadata": {},
   "source": [
    "# Backup cleaning"
   ]
  },
  {
   "cell_type": "code",
   "execution_count": 20,
   "metadata": {},
   "outputs": [],
   "source": [
    "cell.rinseSyringe()\n",
    "cell.rinseCellFlood()\n",
    "cell.rinseCatch()\n",
    "cell.rinseSyringe()"
   ]
  },
  {
   "cell_type": "code",
   "execution_count": 28,
   "metadata": {},
   "outputs": [],
   "source": [
    "cell.rinseCatch()"
   ]
  },
  {
   "cell_type": "markdown",
   "metadata": {},
   "source": [
    "# Measure Empty and Blocked"
   ]
  },
  {
   "cell_type": "code",
   "execution_count": 31,
   "metadata": {},
   "outputs": [
    {
     "name": "stdout",
     "output_type": "stream",
     "text": [
      "runPoint {\"counter.countAgainst\"= \"TIME\", \"counter.timePreset\"= \"300\", \"configuration\"= \"1p15m 5A Offset Scatt\", \"groupid\"= \"21\", \"filePurpose\"= \"SCATTERING\", \"intent\"= \"Sample\", \"sample.description\"= \"Empty Cell 1p15m 5A Offset Scatt\", \"sample.thickness\"= \"1.0\"} -g 10 -p \"ROBOT\" -u \"NGB\"\n",
      "runPoint {\"counter.countAgainst\"= \"TIME\", \"counter.timePreset\"= \"180\", \"configuration\"= \"1p15m 5A Offset Trans\", \"groupid\"= \"21\", \"filePurpose\"= \"TRANSMISSION\", \"intent\"= \"Sample\", \"sample.description\"= \"Empty Cell 1p15m 5A Offset Trans\", \"sample.thickness\"= \"1.0\"} -g 10 -p \"ROBOT\" -u \"NGB\"\n"
     ]
    }
   ],
   "source": [
    "nice_params['configuration'] = f'1p15m 5A Offset Scatt'\n",
    "nice_params['filePurpose'] = f'SCATTERING'\n",
    "nice_params['counter.timePreset'] = '300'\n",
    "nice_params['sample.description'] = f'Empty Cell {nice_params[\"configuration\"]}'\n",
    "measure_sans(nice_client,nice_params)\n",
    "    \n",
    "nice_params['configuration'] = f'1p15m 5A Offset Trans'\n",
    "nice_params['filePurpose'] = f'TRANSMISSION'\n",
    "nice_params['counter.timePreset'] = '180'\n",
    "nice_params['sample.description'] = f'Empty Cell {nice_params[\"configuration\"]}'\n",
    "measure_sans(nice_client,nice_params)\n",
    "\n",
    "nice_client.console('move chamberTranslation 0')\n",
    "nice_params['configuration'] = f'1p15m 5A Offset Trans'\n",
    "nice_params['filePurpose'] = f'TRANSMISSION'\n",
    "nice_params['counter.timePreset'] = '180'\n",
    "nice_params['sample.description'] = f'Open Beam {nice_params[\"configuration\"]}'\n",
    "nice_params['slotIndex'] = f'Open Beam {nice_params[\"configuration\"]}'\n",
    "measure_sans(nice_client,nice_params)\n",
    "nice_client.console('move chamberTranslation 16.1')\n"
   ]
  },
  {
   "cell_type": "code",
   "execution_count": 33,
   "metadata": {},
   "outputs": [
    {
     "name": "stdout",
     "output_type": "stream",
     "text": [
      "runPoint {\"counter.countAgainst\"= \"TIME\", \"counter.timePreset\"= \"300\", \"configuration\"= \"1p15m 5A Offset Scatt\", \"groupid\"= \"21\", \"filePurpose\"= \"SCATTERING\", \"intent\"= \"Sample\", \"sample.description\"= \"Blocked Beam 1p15m 5A Offset Scatt\", \"sample.thickness\"= \"1.0\"} -g 10 -p \"ROBOT\" -u \"NGB\"\n"
     ]
    }
   ],
   "source": [
    "nice_params['configuration'] = f'1p15m 5A Offset Scatt'\n",
    "nice_params['filePurpose'] = f'SCATTERING'\n",
    "nice_params['counter.timePreset'] = '300'\n",
    "nice_params['sample.description'] = f'Blocked Beam {nice_params[\"configuration\"]}'\n",
    "measure_sans(nice_client,nice_params)"
   ]
  },
  {
   "cell_type": "code",
   "execution_count": null,
   "metadata": {},
   "outputs": [],
   "source": []
  }
 ],
 "metadata": {
  "kernelspec": {
   "display_name": "Python 3",
   "language": "python",
   "name": "python3"
  },
  "language_info": {
   "codemirror_mode": {
    "name": "ipython",
    "version": 3
   },
   "file_extension": ".py",
   "mimetype": "text/x-python",
   "name": "python",
   "nbconvert_exporter": "python",
   "pygments_lexer": "ipython3",
   "version": "3.7.4"
  }
 },
 "nbformat": 4,
 "nbformat_minor": 4
}
