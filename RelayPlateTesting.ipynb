{
 "cells": [
  {
   "cell_type": "code",
   "execution_count": 1,
   "id": "8569141c-4a1e-4e6e-8e2e-499bd3b32cb4",
   "metadata": {},
   "outputs": [],
   "source": [
    "import piplates.RELAYplate as relay"
   ]
  },
  {
   "cell_type": "code",
   "execution_count": 21,
   "id": "73fbb199-5e74-4f54-a90b-a902ce99583b",
   "metadata": {
    "scrolled": true
   },
   "outputs": [
    {
     "data": {
      "text/plain": [
       "'Pi-Plate RELAY'"
      ]
     },
     "execution_count": 21,
     "metadata": {},
     "output_type": "execute_result"
    }
   ],
   "source": [
    "relay.getID(0)"
   ]
  },
  {
   "cell_type": "code",
   "execution_count": 2,
   "id": "5a8625a4-a9b3-429c-bd54-a641134b8330",
   "metadata": {},
   "outputs": [],
   "source": [
    "def arm_up(relay_plate):\n",
    "    relay_plate.relayON(0,6)\n",
    "    relay_plate.relayOFF(0,7)"
   ]
  },
  {
   "cell_type": "code",
   "execution_count": 3,
   "id": "058824b8-e588-4b08-aa44-9880d73f6783",
   "metadata": {},
   "outputs": [],
   "source": [
    "def arm_down(relay_plate):\n",
    "    relay_plate.relayOFF(0,6)\n",
    "    relay_plate.relayON(0, 7)"
   ]
  },
  {
   "cell_type": "code",
   "execution_count": 5,
   "id": "08821b62-6796-4040-89f6-5458db12fa7d",
   "metadata": {},
   "outputs": [],
   "source": [
    "def arm_lock(relay_plate):\n",
    "    relay_plate.relayOFF(0,7)\n",
    "    relay_plate.relayOFF(0,6)"
   ]
  },
  {
   "cell_type": "code",
   "execution_count": 8,
   "id": "497c62e9-f747-4449-abfd-be713ee9738a",
   "metadata": {},
   "outputs": [],
   "source": [
    "arm_up(relay)"
   ]
  },
  {
   "cell_type": "code",
   "execution_count": 9,
   "id": "12ee9e59-4278-4de3-82b1-2c506b836528",
   "metadata": {},
   "outputs": [],
   "source": [
    "arm_down(relay)"
   ]
  },
  {
   "cell_type": "code",
   "execution_count": 22,
   "id": "1e5bc866-c716-491b-9e11-379d9dc816f1",
   "metadata": {},
   "outputs": [],
   "source": [
    "arm_lock(relay)"
   ]
  },
  {
   "cell_type": "code",
   "execution_count": 20,
   "id": "530ad9f8-58e4-4190-8d18-a6d8db4d9c02",
   "metadata": {},
   "outputs": [],
   "source": [
    "relay.relayON(0, 1)"
   ]
  },
  {
   "cell_type": "code",
   "execution_count": 22,
   "id": "52752320-1a89-4914-9fa8-a7e76b80aa5f",
   "metadata": {},
   "outputs": [],
   "source": [
    "relay.relayOFF(0, 1)\n",
    "relay.relayOFF(0, 2)\n",
    "relay.relayOFF(0, 3)\n",
    "relay.relayOFF(0, 4)\n",
    "relay.relayOFF(0, 5)\n",
    "relay.relayOFF(0, 6)\n",
    "relay.relayOFF(0, 7)"
   ]
  },
  {
   "cell_type": "code",
   "execution_count": 117,
   "id": "48886c05-521e-4680-832d-265f2cb4bd0b",
   "metadata": {},
   "outputs": [],
   "source": [
    "relay.relayON(0, 1)"
   ]
  },
  {
   "cell_type": "code",
   "execution_count": 118,
   "id": "c44a8349-b724-4453-8b36-4f02dfca5bd3",
   "metadata": {},
   "outputs": [],
   "source": [
    "relay.relayOFF(0,1)"
   ]
  },
  {
   "cell_type": "code",
   "execution_count": 103,
   "id": "b228031b-bf2f-4d54-8dcb-615925808f78",
   "metadata": {},
   "outputs": [],
   "source": [
    "relay.relayON(0, 7)"
   ]
  },
  {
   "cell_type": "code",
   "execution_count": 104,
   "id": "1d91b9ac-95cc-4f0c-8a00-ab9ba2cd9371",
   "metadata": {},
   "outputs": [],
   "source": [
    "relay.relayOFF(0,7)"
   ]
  },
  {
   "cell_type": "code",
   "execution_count": null,
   "id": "e8a8c13c-cff6-46c2-a83a-e7c3b63d7710",
   "metadata": {},
   "outputs": [],
   "source": []
  },
  {
   "cell_type": "code",
   "execution_count": null,
   "id": "338c1597-1c10-482c-b463-f53a9583a7a8",
   "metadata": {},
   "outputs": [],
   "source": []
  }
 ],
 "metadata": {
  "kernelspec": {
   "display_name": "Python 3 (ipykernel)",
   "language": "python",
   "name": "python3"
  },
  "language_info": {
   "codemirror_mode": {
    "name": "ipython",
    "version": 3
   },
   "file_extension": ".py",
   "mimetype": "text/x-python",
   "name": "python",
   "nbconvert_exporter": "python",
   "pygments_lexer": "ipython3",
   "version": "3.11.2"
  }
 },
 "nbformat": 4,
 "nbformat_minor": 5
}
