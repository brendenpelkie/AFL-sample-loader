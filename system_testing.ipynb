{
 "cells": [
  {
   "cell_type": "code",
   "execution_count": 1,
   "id": "7468608f-3555-4553-bf2b-b20f36cd4952",
   "metadata": {},
   "outputs": [],
   "source": [
    "import piplates.RELAYplate as relay"
   ]
  },
  {
   "cell_type": "code",
   "execution_count": 2,
   "id": "8513038f-6993-4036-af35-4d857024a518",
   "metadata": {},
   "outputs": [
    {
     "name": "stdout",
     "output_type": "stream",
     "text": [
      "importing Matplotlib failed, do you want plotting to work?\n"
     ]
    },
    {
     "name": "stderr",
     "output_type": "stream",
     "text": [
      "/tmp/ipykernel_36684/1378079162.py:12: UserWarning: Plotting imports failed! Live data plotting will not work on this server.\n",
      "  from AFL.automation.APIServer.APIServer import APIServer\n"
     ]
    },
    {
     "name": "stdout",
     "output_type": "stream",
     "text": [
      "LoadStopperDriver started with data = None\n",
      "Got connection response from board: Pi-Plate RELAY\n",
      "Relay state change, CHANNELS TO SET = {2: True} and CHANNELS = {'piston-vent': True}\n"
     ]
    },
    {
     "name": "stderr",
     "output_type": "stream",
     "text": [
      "/home/piuser/AFL-sample-loader/AFL/automation/loading/PiPlatesRelay.py:114: UserWarning: ERROR: attempted relay set to 2 but readback was 0.\n",
      "  warnings.warn(f'ERROR: attempted relay set to {val_to_send} but readback was {readback}.')\n"
     ]
    },
    {
     "name": "stdout",
     "output_type": "stream",
     "text": [
      "Success after 56 tries.\n",
      "Relay state change, CHANNELS TO SET = {2: True, 6: True, 7: False} and CHANNELS = {'piston-vent': True, 'arm-up': True, 'arm-down': False}\n",
      "resetting load stopper\n",
      "stop load V2 inited\n",
      "StopLoad thread starting with data = None and sensor label = \n",
      "Starting runloop for PollingThread:\n",
      "Starting runloop for CallbackThread:\n"
     ]
    }
   ],
   "source": [
    "import os,sys,subprocess\n",
    "from pathlib import Path\n",
    "\n",
    "try:\n",
    "        import AFL.automation\n",
    "except:\n",
    "        sys.path.append(os.path.abspath(Path(__file__).parent.parent))\n",
    "        print(f'Could not find AFL.automation on system path, adding {os.path.abspath(Path(__file__).parent.parent)} to PYTHONPATH')\n",
    "\n",
    "server_port=5000\n",
    "\n",
    "from AFL.automation.APIServer.APIServer import APIServer\n",
    "from AFL.automation.APIServer.data.DataTiled import DataTiled\n",
    "# from AFL.automation.loading.PneumaticSampleCell import PneumaticSampleCell\n",
    "from AFL.automation.loading.PiPlatesRelay import PiPlatesRelay\n",
    "from AFL.automation.loading.PiGPIO import PiGPIO\n",
    "from AFL.automation.loading.Tubing import Tubing\n",
    "from AFL.automation.loading.PressureControllerAsPump import PressureControllerAsPump\n",
    "from AFL.automation.loading.DigitalOutPressureController import DigitalOutPressureController\n",
    "from AFL.automation.loading.LabJackDigitalOut import LabJackDigitalOut\n",
    "from AFL.automation.loading.LabJackSensor import LabJackSensor\n",
    "from AFL.automation.loading.LoadStopperDriver import LoadStopperDriver\n",
    "from AFL.automation.loading.PneumaticPressureSampleCell import PneumaticPressureSampleCell\n",
    "\n",
    "\n",
    "#data = DataTiled('http://10.42.0.1:8000',api_key = os.environ['TILED_API_KEY'],backup_path='/home/pi/.afl/json-backup')\n",
    "\n",
    "#load stopper stuff\n",
    "sensor_sans = LabJackSensor(port_to_read='AIN0',reset_port='DIO5')\n",
    "load_stopper_sans = LoadStopperDriver(sensor_sans,name='LoadStopperDriver_sans',auto_initialize=False,sensorlabel='')\n",
    "\n",
    "#sensor_spec = LabJackSensor(port_to_read='AIN1',reset_port='DIO7')\n",
    "#load_stopper_spec = LoadStopperDriver(sensor_spec,name='LoadStopperDriver_spec',auto_initialize=False,sensorlabel='')\n",
    "\n",
    "\n",
    "\n",
    "relayboard = PiPlatesRelay(\n",
    "        {\n",
    "        6:'arm-up',7:'arm-down',\n",
    "        5:'rinse1',4:'rinse2',3:'blow',2:'piston-vent',1:'postsample'\n",
    "\n",
    "        } )\n",
    "\n",
    "digout = LabJackDigitalOut(intermittent_device_handle=False,port_to_write='TDAC6',shared_device = sensor_sans)\n",
    "p_ctrl = DigitalOutPressureController(digout,3)\n",
    "\n",
    "#gpio = PiGPIO({4:'DOOR',14:'ARM_UP',15:'ARM_DOWN'},pull_dir='UP') #: p21-blue, p20-purple: 1, p26-grey: 1}\n",
    "\n",
    "driver = PneumaticPressureSampleCell(p_ctrl,relayboard,load_stopper=[load_stopper_sans])"
   ]
  },
  {
   "cell_type": "code",
   "execution_count": 3,
   "id": "f9043cdf-8234-42e0-9ef3-8d84ecfd8480",
   "metadata": {},
   "outputs": [
    {
     "name": "stderr",
     "output_type": "stream",
     "text": [
      "/tmp/ipykernel_36684/1834322660.py:1: UserWarning: Rinsing despite READY state.  This is OK, just a little extra.  Lowering the arm to rinse.\n",
      "  driver.rinseCell()\n"
     ]
    },
    {
     "name": "stdout",
     "output_type": "stream",
     "text": [
      "Relay state change, CHANNELS TO SET = {2: True, 6: False, 7: True} and CHANNELS = {'piston-vent': True, 'arm-up': False, 'arm-down': True}\n",
      "Relay state change, CHANNELS TO SET = {2: False, 1: True} and CHANNELS = {'piston-vent': False, 'postsample': True}\n",
      "30\n",
      "Relay state change, CHANNELS TO SET = {5: True} and CHANNELS = {'rinse1': True}\n",
      "Relay state change, CHANNELS TO SET = {5: False} and CHANNELS = {'rinse1': False}\n",
      "2\n",
      "30\n",
      "Relay state change, CHANNELS TO SET = {4: True} and CHANNELS = {'rinse2': True}\n",
      "Relay state change, CHANNELS TO SET = {4: False} and CHANNELS = {'rinse2': False}\n",
      "5\n",
      "Relay state change, CHANNELS TO SET = {3: True} and CHANNELS = {'blow': True}\n",
      "Relay state change, CHANNELS TO SET = {3: False} and CHANNELS = {'blow': False}\n",
      "0.5\n",
      "60\n",
      "Relay state change, CHANNELS TO SET = {3: True} and CHANNELS = {'blow': True}\n",
      "Relay state change, CHANNELS TO SET = {3: False} and CHANNELS = {'blow': False}\n",
      "Relay state change, CHANNELS TO SET = {1: False} and CHANNELS = {'postsample': False}\n",
      "Relay state change, CHANNELS TO SET = {2: True, 6: True, 7: False} and CHANNELS = {'piston-vent': True, 'arm-up': True, 'arm-down': False}\n"
     ]
    }
   ],
   "source": [
    "driver.rinseCell()"
   ]
  },
  {
   "cell_type": "markdown",
   "id": "1e028bc4-dda0-4657-a397-10ae3a4d2e06",
   "metadata": {},
   "source": [
    "## Test sample load states"
   ]
  },
  {
   "cell_type": "code",
   "execution_count": 14,
   "id": "82140c3c-1ca5-44c1-8ef4-5fa04b8884e2",
   "metadata": {},
   "outputs": [
    {
     "name": "stdout",
     "output_type": "stream",
     "text": [
      "Relay state change, CHANNELS TO SET = {1: True} and CHANNELS = {'postsample': True}\n"
     ]
    }
   ],
   "source": [
    "driver.relayboard.setChannels({'postsample':True})"
   ]
  },
  {
   "cell_type": "code",
   "execution_count": 15,
   "id": "6cc37f28-edb2-43ec-8f21-7d43fd21e4d9",
   "metadata": {},
   "outputs": [
    {
     "name": "stdout",
     "output_type": "stream",
     "text": [
      "Relay state change, CHANNELS TO SET = {1: False} and CHANNELS = {'postsample': False}\n"
     ]
    }
   ],
   "source": [
    "driver.relayboard.setChannels({'postsample':False})"
   ]
  },
  {
   "cell_type": "code",
   "execution_count": 4,
   "id": "736251b6-b4cf-4d2c-83df-9cc2866acd61",
   "metadata": {},
   "outputs": [
    {
     "data": {
      "text/plain": [
       "PosixPath('/home/piuser/.afl/PneumaticSampleCell.config.json')"
      ]
     },
     "execution_count": 4,
     "metadata": {},
     "output_type": "execute_result"
    }
   ],
   "source": [
    "driver.filepath"
   ]
  },
  {
   "cell_type": "markdown",
   "id": "8a20f095-fc1c-4a32-8db7-5c80a6b65dc8",
   "metadata": {},
   "source": [
    "## Test stop load states"
   ]
  },
  {
   "cell_type": "code",
   "execution_count": null,
   "id": "b8019e2c-333d-40f7-9a49-1be631e72434",
   "metadata": {},
   "outputs": [],
   "source": []
  },
  {
   "cell_type": "markdown",
   "id": "df8d0e3d-4c23-4a47-95bc-7d962368ef44",
   "metadata": {},
   "source": [
    "## Test rinse 1"
   ]
  },
  {
   "cell_type": "code",
   "execution_count": null,
   "id": "a4c63a4e-df72-482a-b6ae-11615c2088bd",
   "metadata": {},
   "outputs": [],
   "source": []
  },
  {
   "cell_type": "code",
   "execution_count": null,
   "id": "4f05befa-464e-4849-936a-5f83195b33f3",
   "metadata": {},
   "outputs": [],
   "source": []
  },
  {
   "cell_type": "markdown",
   "id": "b94c0415-08ac-4f43-a2e4-6880345574c5",
   "metadata": {},
   "source": [
    "## Test rinse 2"
   ]
  },
  {
   "cell_type": "code",
   "execution_count": null,
   "id": "8b973bfe-6903-4bfd-855e-de2ee26b54fb",
   "metadata": {},
   "outputs": [],
   "source": []
  }
 ],
 "metadata": {
  "kernelspec": {
   "display_name": "Python 3 (ipykernel)",
   "language": "python",
   "name": "python3"
  },
  "language_info": {
   "codemirror_mode": {
    "name": "ipython",
    "version": 3
   },
   "file_extension": ".py",
   "mimetype": "text/x-python",
   "name": "python",
   "nbconvert_exporter": "python",
   "pygments_lexer": "ipython3",
   "version": "3.11.2"
  }
 },
 "nbformat": 4,
 "nbformat_minor": 5
}
